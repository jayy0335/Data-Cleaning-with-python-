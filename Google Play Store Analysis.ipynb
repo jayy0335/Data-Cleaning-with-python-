{
 "cells": [
  {
   "cell_type": "code",
   "execution_count": 1,
   "id": "f07dcb66",
   "metadata": {},
   "outputs": [],
   "source": [
    "import csv"
   ]
  },
  {
   "cell_type": "code",
   "execution_count": 2,
   "id": "3fda2af4",
   "metadata": {},
   "outputs": [],
   "source": [
    "read=list(csv.reader(open(\"googleplaystore.csv\", encoding = \"UTF-8\")))"
   ]
  },
  {
   "cell_type": "code",
   "execution_count": 3,
   "id": "6bfe8f12",
   "metadata": {},
   "outputs": [],
   "source": [
    "header=read[0]\n",
    "data=read[1:]"
   ]
  },
  {
   "cell_type": "code",
   "execution_count": 4,
   "id": "a452ef28",
   "metadata": {},
   "outputs": [
    {
     "data": {
      "text/plain": [
       "['App',\n",
       " 'Category',\n",
       " 'Rating',\n",
       " 'Reviews',\n",
       " 'Size',\n",
       " 'Installs',\n",
       " 'Type',\n",
       " 'Price',\n",
       " 'Content Rating',\n",
       " 'Genres',\n",
       " 'Last Updated',\n",
       " 'Current Ver',\n",
       " 'Android Ver']"
      ]
     },
     "execution_count": 4,
     "metadata": {},
     "output_type": "execute_result"
    }
   ],
   "source": [
    "header"
   ]
  },
  {
   "cell_type": "code",
   "execution_count": 5,
   "id": "0009d379",
   "metadata": {},
   "outputs": [
    {
     "data": {
      "text/plain": [
       "list"
      ]
     },
     "execution_count": 5,
     "metadata": {},
     "output_type": "execute_result"
    }
   ],
   "source": [
    "type(read)"
   ]
  },
  {
   "cell_type": "code",
   "execution_count": 6,
   "id": "2c1a28a4",
   "metadata": {},
   "outputs": [
    {
     "data": {
      "text/plain": [
       "10842"
      ]
     },
     "execution_count": 6,
     "metadata": {},
     "output_type": "execute_result"
    }
   ],
   "source": [
    "len(read)"
   ]
  },
  {
   "cell_type": "code",
   "execution_count": 7,
   "id": "b6ee998f",
   "metadata": {},
   "outputs": [
    {
     "name": "stdout",
     "output_type": "stream",
     "text": [
      "['Life Made WI-Fi Touchscreen Photo Frame', '1.9', '19', '3.0M', '1,000+', 'Free', '0', 'Everyone', '', 'February 11, 2018', '1.0.19', '4.0 and up']\n",
      "10472\n"
     ]
    }
   ],
   "source": [
    "for i in data:        #how to know about empty colunms with its index number\n",
    "    if i[-4] == \"\":\n",
    "        print(i)\n",
    "        print(data.index(i))"
   ]
  },
  {
   "cell_type": "code",
   "execution_count": 8,
   "id": "9346f229",
   "metadata": {},
   "outputs": [],
   "source": [
    "categories=[]\n",
    "for i in data:\n",
    "    if i[-4] not in categories:\n",
    "        categories.append(i[-4])"
   ]
  },
  {
   "cell_type": "code",
   "execution_count": 9,
   "id": "2d69d126",
   "metadata": {},
   "outputs": [
    {
     "name": "stdout",
     "output_type": "stream",
     "text": [
      "['Art & Design', 'Art & Design;Pretend Play', 'Art & Design;Creativity', 'Art & Design;Action & Adventure', 'Auto & Vehicles', 'Beauty', 'Books & Reference', 'Business', 'Comics', 'Comics;Creativity', 'Communication', 'Dating', 'Education;Education', 'Education', 'Education;Creativity', 'Education;Music & Video', 'Education;Action & Adventure', 'Education;Pretend Play', 'Education;Brain Games', 'Entertainment', 'Entertainment;Music & Video', 'Entertainment;Brain Games', 'Entertainment;Creativity', 'Events', 'Finance', 'Food & Drink', 'Health & Fitness', 'House & Home', 'Libraries & Demo', 'Lifestyle', 'Lifestyle;Pretend Play', 'Adventure;Action & Adventure', 'Arcade', 'Casual', 'Card', 'Casual;Pretend Play', 'Action', 'Strategy', 'Puzzle', 'Sports', 'Music', 'Word', 'Racing', 'Casual;Creativity', 'Casual;Action & Adventure', 'Simulation', 'Adventure', 'Board', 'Trivia', 'Role Playing', 'Simulation;Education', 'Action;Action & Adventure', 'Casual;Brain Games', 'Simulation;Action & Adventure', 'Educational;Creativity', 'Puzzle;Brain Games', 'Educational;Education', 'Card;Brain Games', 'Educational;Brain Games', 'Educational;Pretend Play', 'Entertainment;Education', 'Casual;Education', 'Music;Music & Video', 'Racing;Action & Adventure', 'Arcade;Pretend Play', 'Role Playing;Action & Adventure', 'Simulation;Pretend Play', 'Puzzle;Creativity', 'Sports;Action & Adventure', 'Educational;Action & Adventure', 'Arcade;Action & Adventure', 'Entertainment;Action & Adventure', 'Puzzle;Action & Adventure', 'Strategy;Action & Adventure', 'Music & Audio;Music & Video', 'Health & Fitness;Education', 'Adventure;Education', 'Board;Brain Games', 'Board;Action & Adventure', 'Board;Pretend Play', 'Casual;Music & Video', 'Role Playing;Pretend Play', 'Entertainment;Pretend Play', 'Video Players & Editors;Creativity', 'Card;Action & Adventure', 'Medical', 'Social', 'Shopping', 'Photography', 'Travel & Local', 'Travel & Local;Action & Adventure', 'Tools', 'Tools;Education', 'Personalization', 'Productivity', 'Parenting', 'Parenting;Music & Video', 'Parenting;Education', 'Parenting;Brain Games', 'Weather', 'Video Players & Editors', 'Video Players & Editors;Music & Video', 'News & Magazines', 'Maps & Navigation', 'Health & Fitness;Action & Adventure', 'Educational', 'Casino', 'Adventure;Brain Games', 'Trivia;Education', 'Lifestyle;Education', 'Books & Reference;Creativity', 'Books & Reference;Education', 'Puzzle;Education', 'Role Playing;Education', 'Role Playing;Brain Games', 'Strategy;Education', 'Racing;Pretend Play', 'Communication;Creativity', '', 'Strategy;Creativity']\n"
     ]
    }
   ],
   "source": [
    "print(categories)"
   ]
  },
  {
   "cell_type": "code",
   "execution_count": 10,
   "id": "d4471b57",
   "metadata": {},
   "outputs": [
    {
     "data": {
      "text/plain": [
       "True"
      ]
     },
     "execution_count": 10,
     "metadata": {},
     "output_type": "execute_result"
    }
   ],
   "source": [
    "\"Role Playing;Brain Games\" in categories"
   ]
  },
  {
   "cell_type": "code",
   "execution_count": 11,
   "id": "0c9f6353",
   "metadata": {},
   "outputs": [
    {
     "data": {
      "text/plain": [
       "True"
      ]
     },
     "execution_count": 11,
     "metadata": {},
     "output_type": "execute_result"
    }
   ],
   "source": [
    "\"Lifestyle\" in categories"
   ]
  },
  {
   "cell_type": "code",
   "execution_count": 12,
   "id": "7fbc3154",
   "metadata": {},
   "outputs": [],
   "source": [
    "data[10472][-4]=\"Lifestyle\""
   ]
  },
  {
   "cell_type": "code",
   "execution_count": 13,
   "id": "ae139fc5",
   "metadata": {},
   "outputs": [
    {
     "name": "stdout",
     "output_type": "stream",
     "text": [
      "['Photo Editor & Candy Camera & Grid & ScrapBook', 'ART_AND_DESIGN', '4.1', '159', '19M', '10,000+', 'Free', '0', 'Everyone', 'Art & Design', 'January 7, 2018', '1.0.0', '4.0.3 and up']\n",
      "['Life Made WI-Fi Touchscreen Photo Frame', '1.9', '19', '3.0M', '1,000+', 'Free', '0', 'Everyone', 'Lifestyle', 'February 11, 2018', '1.0.19', '4.0 and up']\n"
     ]
    }
   ],
   "source": [
    "print(data[0])\n",
    "print(data[10472])"
   ]
  },
  {
   "cell_type": "code",
   "execution_count": 14,
   "id": "a2d1a30d",
   "metadata": {},
   "outputs": [
    {
     "name": "stdout",
     "output_type": "stream",
     "text": [
      "13\n",
      "12\n"
     ]
    }
   ],
   "source": [
    "print(len(data[0]))\n",
    "print(len(data[10472]))"
   ]
  },
  {
   "cell_type": "code",
   "execution_count": 15,
   "id": "708eafc1",
   "metadata": {},
   "outputs": [],
   "source": [
    "categories = []\n",
    "for i in data:\n",
    "    if i[1] not in categories:\n",
    "        categories.append(i[1])"
   ]
  },
  {
   "cell_type": "code",
   "execution_count": 16,
   "id": "21e5e8d8",
   "metadata": {},
   "outputs": [
    {
     "data": {
      "text/plain": [
       "['ART_AND_DESIGN',\n",
       " 'AUTO_AND_VEHICLES',\n",
       " 'BEAUTY',\n",
       " 'BOOKS_AND_REFERENCE',\n",
       " 'BUSINESS',\n",
       " 'COMICS',\n",
       " 'COMMUNICATION',\n",
       " 'DATING',\n",
       " 'EDUCATION',\n",
       " 'ENTERTAINMENT',\n",
       " 'EVENTS',\n",
       " 'FINANCE',\n",
       " 'FOOD_AND_DRINK',\n",
       " 'HEALTH_AND_FITNESS',\n",
       " 'HOUSE_AND_HOME',\n",
       " 'LIBRARIES_AND_DEMO',\n",
       " 'LIFESTYLE',\n",
       " 'GAME',\n",
       " 'FAMILY',\n",
       " 'MEDICAL',\n",
       " 'SOCIAL',\n",
       " 'SHOPPING',\n",
       " 'PHOTOGRAPHY',\n",
       " 'SPORTS',\n",
       " 'TRAVEL_AND_LOCAL',\n",
       " 'TOOLS',\n",
       " 'PERSONALIZATION',\n",
       " 'PRODUCTIVITY',\n",
       " 'PARENTING',\n",
       " 'WEATHER',\n",
       " 'VIDEO_PLAYERS',\n",
       " 'NEWS_AND_MAGAZINES',\n",
       " 'MAPS_AND_NAVIGATION',\n",
       " '1.9']"
      ]
     },
     "execution_count": 16,
     "metadata": {},
     "output_type": "execute_result"
    }
   ],
   "source": [
    "categories"
   ]
  },
  {
   "cell_type": "code",
   "execution_count": 17,
   "id": "2945460e",
   "metadata": {},
   "outputs": [],
   "source": [
    "#data[10472][1]=\"lifestyle\""
   ]
  },
  {
   "cell_type": "code",
   "execution_count": 18,
   "id": "5a7b1e69",
   "metadata": {},
   "outputs": [
    {
     "data": {
      "text/plain": [
       "True"
      ]
     },
     "execution_count": 18,
     "metadata": {},
     "output_type": "execute_result"
    }
   ],
   "source": [
    "\"LIFESTYLE\" in categories"
   ]
  },
  {
   "cell_type": "code",
   "execution_count": 19,
   "id": "8a4f2cdc",
   "metadata": {},
   "outputs": [],
   "source": [
    "data[10472].insert(1,\"LIFESTYLE\") #jahan jaga nahi ho aur koi dusre column ki value occupied hoto wahan insert karte hain "
   ]
  },
  {
   "cell_type": "code",
   "execution_count": 20,
   "id": "24091e14",
   "metadata": {},
   "outputs": [
    {
     "name": "stdout",
     "output_type": "stream",
     "text": [
      "13\n",
      "13\n"
     ]
    }
   ],
   "source": [
    "print(len(data[0]))\n",
    "print(len(data[10472]))"
   ]
  },
  {
   "cell_type": "code",
   "execution_count": 21,
   "id": "d254fc9b",
   "metadata": {},
   "outputs": [
    {
     "name": "stdout",
     "output_type": "stream",
     "text": [
      "['Photo Editor & Candy Camera & Grid & ScrapBook', 'ART_AND_DESIGN', '4.1', '159', '19M', '10,000+', 'Free', '0', 'Everyone', 'Art & Design', 'January 7, 2018', '1.0.0', '4.0.3 and up']\n",
      "['Life Made WI-Fi Touchscreen Photo Frame', 'LIFESTYLE', '1.9', '19', '3.0M', '1,000+', 'Free', '0', 'Everyone', 'Lifestyle', 'February 11, 2018', '1.0.19', '4.0 and up']\n"
     ]
    }
   ],
   "source": [
    "print(data[0])\n",
    "print(data[10472])"
   ]
  },
  {
   "cell_type": "code",
   "execution_count": 22,
   "id": "da488902",
   "metadata": {},
   "outputs": [],
   "source": [
    "duplicate_app =[]\n",
    "unique_app = []\n",
    "for i in data:\n",
    "    app = i[0]\n",
    "    if app in unique_app:\n",
    "        duplicate_app.append(app)\n",
    "    else:\n",
    "        unique_app.append(app)\n",
    "    "
   ]
  },
  {
   "cell_type": "code",
   "execution_count": 23,
   "id": "93cd8543",
   "metadata": {},
   "outputs": [
    {
     "data": {
      "text/plain": [
       "9660"
      ]
     },
     "execution_count": 23,
     "metadata": {},
     "output_type": "execute_result"
    }
   ],
   "source": [
    "len(unique_app)"
   ]
  },
  {
   "cell_type": "code",
   "execution_count": 24,
   "id": "68f14879",
   "metadata": {},
   "outputs": [
    {
     "data": {
      "text/plain": [
       "1181"
      ]
     },
     "execution_count": 24,
     "metadata": {},
     "output_type": "execute_result"
    }
   ],
   "source": [
    "len(duplicate_app)"
   ]
  },
  {
   "cell_type": "code",
   "execution_count": 25,
   "id": "280349fe",
   "metadata": {},
   "outputs": [
    {
     "name": "stdout",
     "output_type": "stream",
     "text": [
      "['App', 'Category', 'Rating', 'Reviews', 'Size', 'Installs', 'Type', 'Price', 'Content Rating', 'Genres', 'Last Updated', 'Current Ver', 'Android Ver']\n",
      "['Instagram', 'SOCIAL', '4.5', '66577313', 'Varies with device', '1,000,000,000+', 'Free', '0', 'Teen', 'Social', 'July 31, 2018', 'Varies with device', 'Varies with device']\n",
      "['Instagram', 'SOCIAL', '4.5', '66577446', 'Varies with device', '1,000,000,000+', 'Free', '0', 'Teen', 'Social', 'July 31, 2018', 'Varies with device', 'Varies with device']\n",
      "['Instagram', 'SOCIAL', '4.5', '66577313', 'Varies with device', '1,000,000,000+', 'Free', '0', 'Teen', 'Social', 'July 31, 2018', 'Varies with device', 'Varies with device']\n",
      "['Instagram', 'SOCIAL', '4.5', '66509917', 'Varies with device', '1,000,000,000+', 'Free', '0', 'Teen', 'Social', 'July 31, 2018', 'Varies with device', 'Varies with device']\n"
     ]
    }
   ],
   "source": [
    "print(header)\n",
    "for i in data:\n",
    "    name = i[0]\n",
    "    if name == \"Instagram\":\n",
    "        print(i)"
   ]
  },
  {
   "cell_type": "code",
   "execution_count": 26,
   "id": "a3eecb1b",
   "metadata": {},
   "outputs": [],
   "source": [
    "reviews = {} #{Instagram:66577446}\n",
    "for i in data:\n",
    "    app_name = i[0]\n",
    "    n_reviews = i[3]\n",
    "    #print(n_reviews,app_name)\n",
    "    if app_name not in reviews:\n",
    "        reviews[app_name] = n_reviews\n",
    "    elif app_name in reviews and reviews[app_name] < n_reviews:\n",
    "        reviews[app_name] = n_reviews\n",
    "        "
   ]
  },
  {
   "cell_type": "code",
   "execution_count": 27,
   "id": "a785cc53",
   "metadata": {},
   "outputs": [
    {
     "data": {
      "text/plain": [
       "'66577446'"
      ]
     },
     "execution_count": 27,
     "metadata": {},
     "output_type": "execute_result"
    }
   ],
   "source": [
    "reviews[\"Instagram\"]"
   ]
  },
  {
   "cell_type": "code",
   "execution_count": 28,
   "id": "6fd63a33",
   "metadata": {},
   "outputs": [
    {
     "data": {
      "text/plain": [
       "{'Photo Editor & Candy Camera & Grid & ScrapBook': '159',\n",
       " 'Coloring book moana': '974',\n",
       " 'U Launcher Lite – FREE Live Cool Themes, Hide Apps': '87510',\n",
       " 'Sketch - Draw & Paint': '215644',\n",
       " 'Pixel Draw - Number Art Coloring Book': '967',\n",
       " 'Paper flowers instructions': '167',\n",
       " 'Smoke Effect Photo Maker - Smoke Editor': '178',\n",
       " 'Infinite Painter': '36815',\n",
       " 'Garden Coloring Book': '13791',\n",
       " 'Kids Paint Free - Drawing Fun': '121',\n",
       " 'Text on Photo - Fonteee': '13880',\n",
       " 'Name Art Photo Editor - Focus n Filters': '8788',\n",
       " 'Tattoo Name On My Photo Editor': '44829',\n",
       " 'Mandala Coloring Book': '4326',\n",
       " '3D Color Pixel by Number - Sandbox Art Coloring': '1518',\n",
       " 'Learn To Draw Kawaii Characters': '55',\n",
       " 'Photo Designer - Write your name with shapes': '3632',\n",
       " '350 Diy Room Decor Ideas': '27',\n",
       " 'FlipaClip - Cartoon animation': '194216',\n",
       " 'ibis Paint X': '224399',\n",
       " 'Logo Maker - Small Business': '450',\n",
       " \"Boys Photo Editor - Six Pack & Men's Suit\": '654',\n",
       " 'Superheroes Wallpapers | 4K Backgrounds': '7699',\n",
       " 'Mcqueen Coloring pages': '65',\n",
       " 'HD Mickey Minnie Wallpapers': '118',\n",
       " 'Harley Quinn wallpapers HD': '192',\n",
       " 'Colorfit - Drawing & Coloring': '20260',\n",
       " 'Animated Photo Editor': '203',\n",
       " 'Pencil Sketch Drawing': '136',\n",
       " 'Easy Realistic Drawing Tutorial': '223',\n",
       " 'Pink Silver Bow Keyboard Theme': '1120',\n",
       " 'Art Drawing Ideas': '227',\n",
       " 'Anime Manga Coloring Book': '5035',\n",
       " 'Easy Origami Ideas': '1015',\n",
       " 'I Creative Idea': '353',\n",
       " 'How to draw Ladybug and Cat Noir': '564',\n",
       " 'UNICORN - Color By Number & Pixel Art Coloring': '8264',\n",
       " 'Floor Plan Creator': '36639',\n",
       " 'PIP Camera - PIP Collage Maker': '158',\n",
       " 'How To Color Disney Princess - Coloring Pages': '591',\n",
       " 'Drawing Clothes Fashion Ideas': '117',\n",
       " 'Sad Poetry Photo Frames 2018': '176',\n",
       " 'Textgram - write on photos': '295237',\n",
       " 'Paint Splash!': '2206',\n",
       " 'Popsicle Sticks and Similar DIY Craft Ideas': '26',\n",
       " 'Canva: Poster, banner, card maker & graphic design': '174531',\n",
       " 'Install images with music to make video without Net - 2018': '1070',\n",
       " 'Little Teddy Bear Colouring Book Game': '85',\n",
       " 'How To Draw Food': '845',\n",
       " 'Monster Truck Stunt 3D 2019': '367',\n",
       " 'Real Tractor Farming': '1598',\n",
       " 'Ultimate F1 Racing Championship': '284',\n",
       " 'Used Cars and Trucks for Sale': '17057',\n",
       " 'American Muscle Car Race': '129',\n",
       " 'Offroad Oil Tanker Driver Transport Truck 2019': '542',\n",
       " 'Tickets SDA 2018 and Exam from the State Traffic Safety Inspectorate with Drom.ru': '10479',\n",
       " 'Gas Prices (Germany only)': '805',\n",
       " 'Extreme Rally Championship': '129',\n",
       " 'Restart Navigator': '1403',\n",
       " 'REG - Check the regnumber, find information about Swedish vehicles': '3971',\n",
       " 'CityBus Lviv': '534',\n",
       " 'CDL Practice Test 2018 Edition': '7774',\n",
       " 'ezETC (ETC balance inquiry, meter trial, real-time traffic)': '38846',\n",
       " 'Free VIN Report for Used Cars': '2431',\n",
       " 'DMV Permit Practice Test 2018 Edition': '6090',\n",
       " 'Check Vehicle Tax': '295',\n",
       " 'Used Cars Mexico': '190',\n",
       " 'Ulysse Speedometer': '40211',\n",
       " 'REPUVE': '356',\n",
       " 'Used cars for sale - Trovit': '52530',\n",
       " 'Fines of the State Traffic Safety Inspectorate are official: inspection, payment of fines': '116986',\n",
       " 'SK Enca Direct Malls - Used Cars Search': '1379',\n",
       " 'Android Auto - Maps, Media, Messaging & Voice': '271920',\n",
       " 'PDD-UA': '736',\n",
       " 'Tickets SDA 2019 + Exam RF': '7021',\n",
       " 'Super Cars Wallpapers And Backgrounds': '197',\n",
       " 'Police Lights, Sirens & Follow Me': '737',\n",
       " 'Police Detector (Speed Camera Radar)': '3574',\n",
       " 'Best Car Wallpapers': '994',\n",
       " 'Tickets + PDA 2018 Exam': '197136',\n",
       " 'Pick Your Part Garage': '142',\n",
       " 'PakWheels: Buy & Sell Cars': '15168',\n",
       " 'Supervision service': '2155',\n",
       " 'Speed Camera Detector - Traffic & Speed Alert': '138',\n",
       " 'Used car search Goo net whole car Go to net': '5414',\n",
       " 'CarMax – Cars for Sale: Search Used Car Inventory': '21777',\n",
       " 'BEST CAR SOUNDS': '348',\n",
       " 'RST - Sale of cars on the PCT': '250',\n",
       " 'AutoScout24 Switzerland – Find your new car': '13372',\n",
       " 'Zona Azul Digital Fácil SP CET - OFFICIAL São Paulo': '7880',\n",
       " 'SMS Park': '3617',\n",
       " 'SKencar': '4806',\n",
       " 'Fuelio: Gas log & costs': '65786',\n",
       " 'auto fines': '31433',\n",
       " 'Used car is the first car - used car purchase, used car quotation, dealer information to': '5097',\n",
       " 'All of the parking lot - National Park application (parking lot search / parking sharing / discount payment)': '1754',\n",
       " 'Inquiry Fines and Debits of Vehicles': '2680',\n",
       " 'Gas Station': '1288',\n",
       " 'Hush - Beauty for Everyone': '18900',\n",
       " 'ipsy: Makeup, Beauty, and Tips': '49790',\n",
       " 'Natural recipes for your beauty': '1150',\n",
       " 'BestCam Selfie-selfie, beauty camera, photo editor': '1739',\n",
       " 'Mirror - Zoom & Exposure -': '32090',\n",
       " 'Beauty Selfie Camera': '2225',\n",
       " 'Hairstyles step by step': '4369',\n",
       " 'Filters for Selfie': '8572',\n",
       " 'Tie - Always be happy': '964',\n",
       " 'Ulta Beauty': '42050',\n",
       " 'Prom MakeUp Tutorial': '104',\n",
       " 'Selfie Camera': '17934',\n",
       " 'Sweet Selfie Beauty Camera': '601',\n",
       " 'Colors of white in Urdu': '36',\n",
       " 'Selfie Camera Photo Editor & Filter & Sticker': '187',\n",
       " 'Wrinkles and rejuvenation': '182',\n",
       " 'Eyes Makeup Beauty Tips': '30',\n",
       " 'Photo Editor 2018': '134',\n",
       " 'Step By Step Eyes Makeup Tutorial': '74',\n",
       " 'Beauty Camera - Selfie Camera': '113715',\n",
       " 'Girls Hairstyles': '3595',\n",
       " 'Mirror Camera (Mirror + Selfie Camera)': '9315',\n",
       " 'Beauty Tips - Beauty Tips in Sinhala': '75',\n",
       " 'Haircut Tutorials/Haircut Videos': '38',\n",
       " 'Sephora: Skin Care, Beauty Makeup & Fragrance Shop': '26834',\n",
       " 'Manicure - nail design': '119',\n",
       " 'Sticker Camera - Selfie Filters, Beauty Camera': '2277',\n",
       " 'Filters for B Live': '2280',\n",
       " 'Skin Care and Natural Beauty': '654',\n",
       " 'Facial Wrinkle Reduction': '184',\n",
       " 'Makeup Videos': '9',\n",
       " 'Secrets of beauty, youth and health': '77',\n",
       " 'Recipes and tips for losing weight': '35',\n",
       " 'Discover Color': '364',\n",
       " 'Eyeliner step by step 2018': '18',\n",
       " 'Dresses Ideas & Fashions +3000': '473',\n",
       " 'Lady adviser (beauty, health)': '30',\n",
       " 'Step By Step Hairstyles For Women': '66',\n",
       " 'Rainbow Camera': '3871',\n",
       " 'Methods of teeth whitening': '257',\n",
       " 'Girls hairstyles 2018': '62',\n",
       " 'Wattpad 📖 Free Books': '2915189',\n",
       " 'E-Book Read - Read Book for free': '1857',\n",
       " 'Download free book with green book': '4478',\n",
       " 'Wikipedia': '577550',\n",
       " 'Amazon Kindle': '814151',\n",
       " 'Cool Reader': '246315',\n",
       " 'Dictionary - Merriam-Webster': '454412',\n",
       " 'NOOK: Read eBooks & Magazines': '155466',\n",
       " 'Free Panda Radio Music': '418',\n",
       " 'Book store': '22486',\n",
       " 'FBReader: Favorite Book Reader': '203130',\n",
       " 'English Grammar Complete Handbook': '1435',\n",
       " 'Free Books - Spirit Fanfiction and Stories': '116507',\n",
       " 'Google Play Books': '1433233',\n",
       " 'AlReader -any text book reader': '90468',\n",
       " 'Offline English Dictionary': '860',\n",
       " 'Oxford Dictionary of English : Free': '364452',\n",
       " 'Offline: English to Tagalog Dictionary': '967',\n",
       " 'Spanish English Translator': '87919',\n",
       " 'FamilySearch Tree': '17506',\n",
       " 'Cloud of Books': '1862',\n",
       " 'Recipes of Prophetic Medicine for free': '2084',\n",
       " 'ReadEra – free ebook reader': '47303',\n",
       " 'NOOK App for NOOK Devices': '19090',\n",
       " 'Anonymous caller detection': '161',\n",
       " 'Ebook Reader': '85842',\n",
       " 'Litnet - E-books': '7831',\n",
       " 'Read books online': '91615',\n",
       " 'English to Urdu Dictionary': '4620',\n",
       " 'eBoox: book reader fb2 epub zip': '21336',\n",
       " 'English Persian Dictionary': '26875',\n",
       " 'Flybook': '1778',\n",
       " 'All Maths Formulas': '2709',\n",
       " 'Ancestry': '64513',\n",
       " 'HTC Help': '8342',\n",
       " 'English translation from Bengali': '527',\n",
       " 'Pdf Book Download - Read Pdf Book': '1322',\n",
       " 'Free Book Reader': '1680',\n",
       " 'eBoox new: Reader for fb2 epub zip books': '2739',\n",
       " 'Only 30 days in English, the guideline is guaranteed': '1065',\n",
       " 'Moon+ Reader': '233757',\n",
       " \"SH-02J Owner's Manual (Android 8.0)\": '2',\n",
       " 'English-Myanmar Dictionary': '8788',\n",
       " 'Golden Dictionary (EN-AR)': '51269',\n",
       " 'All Language Translator Free': '30105',\n",
       " 'Azpen eReader': '156',\n",
       " 'URBANO V 02 instruction manual': '114',\n",
       " 'English Dictionary - Offline': '341234',\n",
       " 'Visual Voicemail by MetroPCS': '16129',\n",
       " 'Indeed Job Search': '674730',\n",
       " 'Uber Driver': '1254730',\n",
       " 'ADP Mobile Solutions': '85185',\n",
       " 'Snag - Jobs Hiring Now': '32584',\n",
       " 'Docs To Go™ Free Office Suite': '217730',\n",
       " 'Google My Business': '70991',\n",
       " 'OfficeSuite : Free Office + PDF Editor': '1002861',\n",
       " 'USPS MOBILE®': '16589',\n",
       " 'Job Search by ZipRecruiter': '148945',\n",
       " 'Curriculum vitae App CV Builder Free Resume Maker': '4571',\n",
       " 'Google Primer': '62272',\n",
       " 'Alba Heaven - Alvarez Job Portal Services': '8941',\n",
       " 'SuperLivePro': '46353',\n",
       " 'Facebook Pages Manager': '1279800',\n",
       " 'OfficeSuite Pro + PDF (Trial)': '88073',\n",
       " 'My Space - Employment Center': '67000',\n",
       " 'Box': '159872',\n",
       " 'Polaris Office for LG': '30847',\n",
       " 'Call Blocker': '188841',\n",
       " 'Jobs in Alabama - Jobs in Alba': '11622',\n",
       " 'Square Point of Sale - POS': '95912',\n",
       " 'Plugin:AOT v5.0': '4034',\n",
       " 'Kariyer.net': '45964',\n",
       " 'SEEK Job Search': '14955',\n",
       " 'Become a Job - Find a job or advertise': '6903',\n",
       " 'ZOOM Cloud Meetings': '31614',\n",
       " 'Easy Installer - Apps On SD': '23055',\n",
       " 'Facebook Ads Manager': '19051',\n",
       " 'IndiaMART: Search Products, Buy, Sell & Trade': '207372',\n",
       " 'ViettelPost express delivery': '1225',\n",
       " 'MyASUS - Service Center': '380837',\n",
       " 'Job Korea - Career Jobs': '10600',\n",
       " '104 Looking for a job - looking for a job, looking for a job, looking for a part-time job, health checkup, resume, treatment room': '74359',\n",
       " 'Myanmar 2D/3D': '822',\n",
       " 'Quick PDF Scanner + OCR FREE': '80805',\n",
       " 'sABN': '2287',\n",
       " 'ATI Cargoes and Transportation': '4162',\n",
       " 'Secure Folder': '14760',\n",
       " 'UPS Mobile': '23243',\n",
       " 'Y! Mobile menu': '9',\n",
       " 'SignEasy | Sign and Fill PDF and other Documents': '8978',\n",
       " 'Genius Scan - PDF Scanner': '42492',\n",
       " 'Tiny Scanner - PDF Scanner App': '286897',\n",
       " 'Fast Scanner : Free PDF Scan': '103755',\n",
       " 'Mobile Doc Scanner (MDScan) Lite': '46505',\n",
       " 'TurboScan: scan documents and receipts in PDF': '11442',\n",
       " 'Tiny Scanner Pro: PDF Doc Scan': '10295',\n",
       " 'Zenefits': '296',\n",
       " 'Google Ads': '29331',\n",
       " 'Slack': '51510',\n",
       " 'FreshBooks Classic': '1802',\n",
       " 'Insightly CRM': '1383',\n",
       " 'QuickBooks Accounting: Invoicing & Expenses': '23175',\n",
       " 'HipChat - Chat Built for Teams': '5868',\n",
       " 'Xero Accounting Software': '2111',\n",
       " 'MailChimp - Email, Marketing Automation': '5448',\n",
       " 'Crew - Free Messaging and Scheduling': '4159',\n",
       " 'Asana: organize team projects': '20815',\n",
       " 'Google Analytics': '78662',\n",
       " 'AdWords Express': '7149',\n",
       " 'Accounting App - Zoho Books': '3079',\n",
       " 'Invoice & Time Tracking - Zoho': '5800',\n",
       " 'join.me - Simple Meetings': '6989',\n",
       " 'Invoice 2go — Professional Invoices and Estimates': '16422',\n",
       " 'Cisco Webex Meetings': '108741',\n",
       " 'ScreenMeet. Easy Phone Meeting': '624',\n",
       " 'Cisco Webex Teams': '1661',\n",
       " 'Microsoft Remote Desktop': '97702',\n",
       " 'Start Meeting': '308',\n",
       " 'ClickMeeting Webinars': '5211',\n",
       " 'BlueJeans for Android': '1058',\n",
       " 'Skype for Business for Android': '78172',\n",
       " 'Verify - Receipts & Expenses': '413',\n",
       " 'LINE WEBTOON - Free Comics': '1013944',\n",
       " 'Manga Master - Best manga & comic reader': '24005',\n",
       " 'GANMA! - All original stories free of charge for all original comics': '57106',\n",
       " 'Röhrich Werner Soundboard': '2249',\n",
       " 'Unicorn Pokez - Color By Number': '516',\n",
       " 'MangaToon - Comics updated Daily': '834',\n",
       " 'Manga Net – Best Online Manga Reader': '1010',\n",
       " 'Manga Rock - Best Manga Reader': '238970',\n",
       " 'Manga - read Thai translation': '302',\n",
       " 'The Vietnam Story - Fun Stories': '438',\n",
       " 'Dragon Ball Wallpaper - Ringtones': '73',\n",
       " 'Funny Jokes Photos': '39',\n",
       " 'Truyện Vui Tý Quậy': '144',\n",
       " 'Comic Es - Shojo manga / love comics free of charge ♪ ♪': '2181',\n",
       " 'comico Popular Original Cartoon Updated Everyday Comico': '93965',\n",
       " 'Daily Manga - Comic & Webtoon': '1462',\n",
       " '漫咖 Comics - Manga,Novel and Stories': '12088',\n",
       " 'Emmanuella Funny Videos 2018': '314',\n",
       " 'DC Comics': '25673',\n",
       " 'Manga Zero - Japanese cartoon and comic reader': '15194',\n",
       " 'Marvel Unlimited': '22551',\n",
       " 'Tapas – Comics, Novels, and Stories': '29839',\n",
       " \"Children's cartoons (Mithu-Mina-Raju)\": '279',\n",
       " \"Narrator's Voice\": '564387',\n",
       " '【Ranobbe complete free】 Novelba - Free app that you can read and write novels': '1330',\n",
       " 'Faustop Sounds': '1677',\n",
       " 'Manga Mania - Best online manga reader': '757',\n",
       " '- Free Comics - Comic Apps': '115',\n",
       " 'Manga AZ - Manga Comic Reader': '126',\n",
       " 'Buff Thun - Daily Free Webtoon / Comics / Web Fiction / Mini Game': '9952',\n",
       " \"pixiv comic - everyone's manga app\": '18814',\n",
       " 'Funny Jokes and Stories 2018': '21',\n",
       " 'Hojiboy Tojiboyev Life Hacks': '15',\n",
       " 'Perfect Viewer': '51981',\n",
       " 'Best Wallpapers Backgrounds(100,000+ 4K HD)': '3596',\n",
       " 'think Comics': '1006',\n",
       " 'Memes Button': '5968',\n",
       " 'Laftel - Watching and Announcing Snooping, Streaming': '4895',\n",
       " 'Messenger – Text and Video Chat for Free': '56646578',\n",
       " 'WhatsApp Messenger': '69119316',\n",
       " 'Messenger for SMS': '125257',\n",
       " 'Google Chrome: Fast & Secure': '9643041',\n",
       " 'Messenger Lite: Free Calls & Messages': '1429038',\n",
       " 'Gmail': '4604483',\n",
       " 'Hangouts': '3419513',\n",
       " 'Viber Messenger': '11335481',\n",
       " 'My Tele2': '158679',\n",
       " 'Firefox Browser fast & private': '3075118',\n",
       " 'Yahoo Mail – Stay Organized': '4188345',\n",
       " 'imo beta free calls and text': '659395',\n",
       " 'imo free video calls and chat': '4785988',\n",
       " 'Contacts': '66602',\n",
       " 'Call Free – Free Call': '30209',\n",
       " 'Web Browser & Explorer': '36901',\n",
       " 'Opera Mini - fast web browser': '5150801',\n",
       " 'Browser 4G': '192948',\n",
       " 'MegaFon Dashboard': '99559',\n",
       " 'ZenUI Dialer & Contacts': '437674',\n",
       " 'Cricket Visual Voicemail': '13698',\n",
       " 'Opera Browser: Fast and Secure': '2473795',\n",
       " 'TracFone My Account': '20769',\n",
       " 'Firefox Focus: The privacy browser': '36981',\n",
       " 'Google Voice': '171052',\n",
       " 'Chrome Dev': '63576',\n",
       " 'Xperia Link™': '45487',\n",
       " 'TouchPal Keyboard - Fun Emoji & Android Keyboard': '615381',\n",
       " 'Who': '2451093',\n",
       " 'Skype Lite - Free Video Call & Chat': '33053',\n",
       " 'WeChat': '5387631',\n",
       " 'UC Browser Mini -Tiny Fast Private & Secure': '3648765',\n",
       " 'WhatsApp Business': '137144',\n",
       " 'My magenta': '42370',\n",
       " 'Android Messages': '781810',\n",
       " 'Telegram': '3128611',\n",
       " 'Google Duo - High Quality Video Calls': '2083237',\n",
       " 'Puffin Web Browser': '541661',\n",
       " 'Seznam.cz': '46702',\n",
       " 'Antillean Gold Telegram (original version)': '2939',\n",
       " 'AT&T Visual Voicemail': '13761',\n",
       " 'GMX Mail': '258556',\n",
       " 'Omlet Chat': '40751',\n",
       " 'UC Browser - Fast Download Private & Secure': '17714850',\n",
       " 'My Vodacom SA': '25021',\n",
       " 'Microsoft Edge': '27187',\n",
       " 'Hangouts Dialer - Call Phones': '122512',\n",
       " 'Talkatone: Free Texts, Calls & Phone Number': '132015',\n",
       " 'Calls & Text by Mo+': '83239',\n",
       " 'free video calls and chat': '594728',\n",
       " 'Skype - free IM & video calls': '10484169',\n",
       " 'GO SMS Pro - Messenger, Free Themes, Emoji': '2876500',\n",
       " 'Messaging+ SMS, MMS Free': '28238',\n",
       " 'chomp SMS': '335646',\n",
       " 'Glide - Video Chat Messenger': '350154',\n",
       " 'Text SMS': '349384',\n",
       " 'Google Allo': '347086',\n",
       " 'Talkray - Free Calls & Texts': '244863',\n",
       " 'LINE: Free Calls & Messages': '10790289',\n",
       " 'GroupMe': '330761',\n",
       " 'mysms SMS Text Messaging Sync': '37320',\n",
       " 'BBM - Free Calls & Messages': '12843436',\n",
       " 'KakaoTalk: Free Calls & Text': '2546549',\n",
       " '2ndLine - Second Phone Number': '15880',\n",
       " 'CM Browser - Ad Blocker , Fast Download , Privacy': '2265084',\n",
       " 'Ninesky Browser': '42925',\n",
       " 'Dolphin Browser - Fast, Private & Adblock🐬': '2511130',\n",
       " 'Ghostery Privacy Browser': '13100',\n",
       " 'InBrowser - Incognito Browsing': '27156',\n",
       " 'Web Browser for Android': '55110',\n",
       " 'DU Browser—Browse fast & fun': '1133539',\n",
       " 'Lightning Web Browser': '12578',\n",
       " 'Web Browser': '10965',\n",
       " 'Puffin Browser Pro': '18247',\n",
       " 'Contacts+': '190613',\n",
       " 'ExDialer - Dialer & Contacts': '125232',\n",
       " 'PHONE for Google Voice & GTalk': '72065',\n",
       " 'Safest Call Blocker': '27540',\n",
       " 'Full Screen Caller ID': '104990',\n",
       " 'Hiya - Caller ID & Block': '177703',\n",
       " 'Mr. Number-Block calls & spam': '177263',\n",
       " 'Should I Answer?': '237468',\n",
       " 'RocketDial Dialer & Contacts': '32254',\n",
       " 'CallApp: Caller ID, Blocker & Phone Call Recorder': '483782',\n",
       " 'Whoscall - Caller ID & Block': '552635',\n",
       " 'CIA - Caller ID & Call Blocker': '60308',\n",
       " 'Calls Blacklist - Call Blocker': '457283',\n",
       " 'Call Control - Call Blocker': '93825',\n",
       " 'True Contact - Real Caller ID': '32283',\n",
       " 'Video Caller Id': '15287',\n",
       " 'Sync.ME – Caller ID & Block': '205739',\n",
       " 'Burner - Free Phone Number': '14873',\n",
       " 'Truecaller: Caller ID, SMS spam blocking & Dialer': '7820775',\n",
       " 'Caller ID +': '9498',\n",
       " 'K-9 Mail': '88427',\n",
       " 'myMail – Email for Hotmail, Gmail and Outlook Mail': '305218',\n",
       " 'Email TypeApp - Mail App': '183374',\n",
       " 'All Email Providers': '20901',\n",
       " 'Newton Mail - Email App for Gmail, Outlook, IMAP': '122595',\n",
       " 'GO Notifier': '124346',\n",
       " 'Mail.Ru - Email App': '837842',\n",
       " 'Mail1Click - Secure Mail': '255',\n",
       " 'Daum Mail - Next Mail': '41420',\n",
       " 'mail.com mail': '44706',\n",
       " 'SolMail - All-in-One email app': '23707',\n",
       " 'Vonage Mobile® Call Video Text': '29208',\n",
       " 'JusTalk - Free Video Calls and Fun Video Chat': '191032',\n",
       " 'Moco+ - Chat, Meet People': '1546',\n",
       " 'Calculator': '57',\n",
       " 'Truth or Dare Pro': '0',\n",
       " 'Private Dating, Hide App- Blue for PrivacyHider': '0',\n",
       " 'Ad Blocker for SayHi': '4',\n",
       " 'AMBW Dating App: Asian Men Black Women Interracial': '2',\n",
       " 'Zoosk Dating App: Meet Singles': '516917',\n",
       " 'OkCupid Dating': '285838',\n",
       " 'Match™ Dating - Meet Singles': '76646',\n",
       " 'Hily: Dating, Chat, Match, Meet & Hook up': '2560',\n",
       " 'Hinge: Dating & Relationships': '7779',\n",
       " 'Casual Dating & Adult Singles - Joyride': '61637',\n",
       " 'BBW Dating & Plus Size Chat': '12633',\n",
       " 'Moco - Chat, Meet People': '313769',\n",
       " 'CMB Free Dating App': '48845',\n",
       " 'Hot or Not - Find someone right now': '305737',\n",
       " 'eharmony - Online Dating App': '31320',\n",
       " 'Free Dating App & Flirt Chat - Match with Singles': '172460',\n",
       " 'Chispa, the Dating App for Latino, Latina Singles': '4195',\n",
       " 'Clover Dating App': '11633',\n",
       " 'Black People Meet Singles Date': '10212',\n",
       " 'Mingle2 - Free Online Dating & Singles Chat Rooms': '37053',\n",
       " 'Free Dating App & Flirt Chat - Cheers': '667',\n",
       " 'stranger chat - anonymous chat': '13204',\n",
       " 'Blendr - Chat, Flirt & Meet': '28671',\n",
       " 'Free Dating Hook Up Messenger': '1157',\n",
       " 'Find Real Love — YouLove Premium Dating': '212626',\n",
       " 'Once - Quality Matches Every day': '222888',\n",
       " 'BLK - Swipe. Match. Chat.': '2067',\n",
       " 'Cougar Dating Life : Date Older Women Sugar Mummy': '1645',\n",
       " 'Howlr': '105',\n",
       " 'Stranger Chat & Date': '3414',\n",
       " 'Free Dating & Flirt Chat - Choice of Love': '42197',\n",
       " 'RandoChat - Chat roulette': '11806',\n",
       " 'BeWild Free Dating & Chat App': '1999',\n",
       " 'FastMeet: Chat, Dating, Love': '22545',\n",
       " 'Free Dating App - YoCutie - Flirt, Chat & Meet': '97699',\n",
       " 'OurTime Dating for Singles 50+': '2519',\n",
       " 'FarmersOnly Dating': '1146',\n",
       " 'Dating for 50 plus Mature Singles – FINALLY': '13049',\n",
       " 'Sudy – Meet Elite & Rich Single': '17268',\n",
       " 'Christian Dating For Free App': '8723',\n",
       " 'Just She - Top Lesbian Dating': '954',\n",
       " 'Single Parent Meet #1 Dating': '2593',\n",
       " 'EliteSingles – Dating for Single Professionals': '5377',\n",
       " 'Millionaire Match: Rich Singles Dating App': '853',\n",
       " 'InterracialCupid - Interracial Dating App': '212',\n",
       " 'Sugar Mommas Dating And Single Search': '1972',\n",
       " 'Hide App, Private Dating, Safe Chat - PrivacyHider': '35206',\n",
       " 'muzmatch: Muslim & Arab Singles, Marriage & Dating': '5168',\n",
       " 'NoBuffDating - Free Dating App': '1939',\n",
       " 'Sugar Daddy Dating App': '277',\n",
       " 'Adult Dirty Emojis': '80',\n",
       " 'Free Dating App - Meet Local Singles - Flirt Chat': '825',\n",
       " 'Meet4U - Chat, Love, Singles!': '40039',\n",
       " 'SnpCupid Dating': '1093',\n",
       " 'Chat Rooms, Avatars, Date - Galaxy': '135420',\n",
       " 'Adult Dating - AdultFinder': '1601',\n",
       " 'Gay Sugar Daddy Dating & Hookup – Sudy Gay': '2212',\n",
       " 'Meet24 - Love, Chat, Singles': '57083',\n",
       " 'BBWCupid - BBW Dating App': '241',\n",
       " 'ChatVideo Meet new people': '63986',\n",
       " 'TryDate - Free Online Dating App, Chat Meet Adults': '7888',\n",
       " 'Black White Interracial Dating - Interracial Match': '537',\n",
       " 'USA Singles Meet, Match and Date Free - Date': '5084',\n",
       " 'FlirtChat - ♥Free Dating/Flirting App♥': '2433',\n",
       " 'The League': '837',\n",
       " 'Herpes Dating: 1,000K+ Singles': '738',\n",
       " 'Heart mill': '4631',\n",
       " '95Live -SG#1 Live Streaming App': '4954',\n",
       " 'Mutual - LDS Dating': '1439',\n",
       " '2RedBeans': '337',\n",
       " 'SweetRing - Meet, Match, Date': '51698',\n",
       " 'BiggerCity: Chat for gay bears, chubs & chasers': '923',\n",
       " 'SilverSingles: The 50+ Dating App': '149',\n",
       " 'Herpes Positive Singles Dating': '198',\n",
       " 'Glam - Premium Dating App': '23170',\n",
       " 'iDates - Chats, Flirts, Dating, Love & Relations': '13890',\n",
       " 'JustDating': '13440',\n",
       " 'Interracial Match Dating App': '143',\n",
       " 'Russian Dating & Chat for Russian speaking RusDate': '1059',\n",
       " 'Sky People (SPI): A secure blind date through authentication by Seoul National University': '894',\n",
       " 'Sweet mi - unlimited hunnam hunting blind date': '6191',\n",
       " 'Mingle - Online Dating App to Chat & Meet People': '15081',\n",
       " 'BBW Dating & Curvy Singles Chat- LargeFriends': '218',\n",
       " 'Hitwe - meet people and chat': '243950',\n",
       " 'A hundred': '236',\n",
       " 'JustSayHi- Dating App. Chat & Meet Singles Nearby': '5152',\n",
       " 'FERZU - Furries Social Network': '1576',\n",
       " 'WannaMeet – Dating & Chat App': '6701',\n",
       " 'Luxy Pro- Elite Dating Single': '742',\n",
       " 'Dating Network': '187',\n",
       " 'Chatting - Free chat, random chat, boyfriend, girlfriend': '2506',\n",
       " 'iPair-Meet, Chat, Dating': '182986',\n",
       " 'Meet, chat & date. Free dating app - Chocolate app': '8661',\n",
       " 'Transenger – Ts Dating and Chat for Free': '8',\n",
       " 'O-Star': '59',\n",
       " 'Free Cam Girls - Live Webcam': '35',\n",
       " 'Cardi B Live Stream Video Chat - Prank': '28',\n",
       " 'Live Girls Talk - Free Video Chat': '125',\n",
       " 'Live Talk - Free Text and Video Chat': '185',\n",
       " 'Chat Kids - Chat Room For Kids': '6',\n",
       " 'Girls Live Chat - Free Text & Video Chat': '110',\n",
       " 'Random Video Chat': '3',\n",
       " 'MouseMingle': '3',\n",
       " 'American Girls Mobile Numbers': '5',\n",
       " 'Random Video Chat App With Strangers': '3',\n",
       " 'FREE VIDEO CHAT - LIVE VIDEO AND TEXT CHAT': '84',\n",
       " 'Awake Dating': '2',\n",
       " 'Live Chat - Free Video Chat Rooms': '20',\n",
       " 'Meet With Strangers: Video Chat & Dating': '2',\n",
       " 'FREE LIVE TALK': '776',\n",
       " 'Random Chat App with Strangers': '2',\n",
       " 'Ost. Zombies Cast - New Music and Lyrics': '1',\n",
       " 'Dating White Girls': '0',\n",
       " 'Live Chat - Free Video Talk': '14',\n",
       " 'Geeks Dating': '0',\n",
       " 'Live chat - free video chat': '1',\n",
       " 'House party - live chat': '1',\n",
       " 'Fishing Brain & Boating Maps Marine': '3',\n",
       " 'CAM5678 Video Chat': '0',\n",
       " 'Video chat live advices': '0',\n",
       " 'chat live chat': '24',\n",
       " 'Pet Lovers Dating': '0',\n",
       " 'Friend Find: free chat + flirt dating app': '23',\n",
       " 'Latin Dating': '0',\n",
       " 'Spine- The dating app': '5',\n",
       " 'Online Chat Girls Meet': '18',\n",
       " 'Wifi Mingle': '0',\n",
       " 'Girls Live Talk - Free Text and Video Chat': '6',\n",
       " 'Soy Luna - Top Music And Lyrics': '1',\n",
       " 'When Will You Get Married': '2',\n",
       " 'HOW TO ASK A GIRL OUT': '0',\n",
       " 'Online Girls Chat Group': '5',\n",
       " 'The DJ - Match with People': '0',\n",
       " 'Toronto Dating': '0',\n",
       " 'i miss you quotes and photos': '0',\n",
       " 'JoJo Siwa Top Hits Music': '0',\n",
       " 'UK Girls Mobile Numbers': '1',\n",
       " 'chat saudi arabia': '11',\n",
       " 'Chat Click - Dating Search': '4',\n",
       " 'Iraq love chat': '14',\n",
       " 'Healthy Relationships Guide': '0',\n",
       " 'following': '1',\n",
       " 'Gods by Night': '104',\n",
       " 'PlusOne': '0',\n",
       " 'Love Calendar - Couple Sharing Calendar & CoupleDay': '14',\n",
       " 'Speeding Joyride & Car Meet App': '3',\n",
       " 'LOBSTR - go on a lunch date': '101',\n",
       " 'Titanic App - Feminist Dating Application': '120',\n",
       " 'French Chat Room': '24',\n",
       " 'Soul Mate': '0',\n",
       " 'Diamond Engagement Rings': '0',\n",
       " 'Dating Tips For Men': '0',\n",
       " 'Halalguur': '6',\n",
       " 'Find Lover': '21',\n",
       " '2Date Dating App, Love and matching': '41605',\n",
       " 'Teenage Chat & Dating': '5',\n",
       " 'Girls Online Talk - Free Text and Video Chat': '791',\n",
       " 'Online Girls Chat': '5323',\n",
       " 'LIVE VIDEO TALK': '478',\n",
       " 'SkyLove – Dating and chat': '69',\n",
       " 'Free Live Talk-Video Call': '158',\n",
       " 'FindLoving': '24',\n",
       " 'Sugar Daddies Dating App': '53',\n",
       " 'Chat Mexico: meet people, flirt and friendship': '8',\n",
       " 'Duolingo: Learn Languages Free': '6297590',\n",
       " 'TED': '181961',\n",
       " 'English Communication - Learn English for Chinese (Learn English for Chinese)': '2544',\n",
       " 'Khan Academy': '85375',\n",
       " 'Learn English with Wlingua': '314300',\n",
       " 'Ai La Trieu Phu - ALTP Free': '776',\n",
       " 'Princess Coloring Book': '9779',\n",
       " 'Learn Spanish - Español': '32346',\n",
       " 'English Grammar Test': '4075',\n",
       " 'Speed Reading': '10611',\n",
       " 'English for beginners': '9321',\n",
       " 'Flame - درب عقلك يوميا': '56065',\n",
       " 'Mermaids': '14286',\n",
       " 'Learn Japanese, Korean, Chinese Offline & Free': '133136',\n",
       " 'Kids Mode': '2469',\n",
       " 'PBS KIDS Video': '36214',\n",
       " 'Dinosaurs Coloring Pages': '390',\n",
       " 'Cars Coloring Pages': '1090',\n",
       " 'Babbel – Learn Languages': '267787',\n",
       " 'Math Tricks': '342918',\n",
       " 'Monster Truck Driver & Racing': '765',\n",
       " 'Learn English Words Free': '172640',\n",
       " 'Japanese / English one-shop search dictionary - Free Japanese - English - Japanese dictionary application': '61',\n",
       " 'English speaking texts': '1619',\n",
       " 'Thai Handwriting': '3168',\n",
       " 'THAI DICT 2018': '29855',\n",
       " 'Kanji test · Han search Kanji training (free version)': '6736',\n",
       " \"Game for KIDS: KIDS match'em\": '7006',\n",
       " 'Flippy Campus - Buy & sell on campus at a discount': '889',\n",
       " 'Free intellectual training game application |': '5741',\n",
       " 'ABC Preschool Free': '27572',\n",
       " 'PINKFONG Baby Shark': '10852',\n",
       " 'English words application mikan': '9888',\n",
       " 'Learn English for beginners': '1929',\n",
       " 'Listen and learn English in seven days': '1516',\n",
       " 'Lumosity: #1 Brain Games & Cognitive Training App': '215301',\n",
       " 'Learn English from Persian: Persian to English': '423',\n",
       " 'English with Lingualeo': '254519',\n",
       " 'Learn languages, grammar & vocabulary with Memrise': '1107948',\n",
       " 'Quizlet: Learn Languages & Vocab with Flashcards': '211856',\n",
       " 'Udemy - Online Courses': '99020',\n",
       " 'Coursera: Online courses': '90481',\n",
       " 'edX - Online Courses by Harvard, MIT & more': '32381',\n",
       " 'Elevate - Brain Training Games': '248912',\n",
       " 'NeuroNation - Focus and Brain Training': '248555',\n",
       " 'Peak – Brain Games & Training': '272321',\n",
       " 'Memorado - Brain Games': '56897',\n",
       " 'Lynda - Online Training Videos': '8599',\n",
       " 'Brilliant': '41185',\n",
       " 'CppDroid - C/C++ IDE': '29980',\n",
       " 'Quiz&Learn Python': '304',\n",
       " 'C++ Tutorials': '358',\n",
       " 'C++ Programming': '11904',\n",
       " 'C Programming': '22251',\n",
       " 'Udacity - Lifelong Learning': '22384',\n",
       " 'Learn C++': '73404',\n",
       " 'Learn programming': '12733',\n",
       " 'Learn JavaScript': '25183',\n",
       " 'Learn Java': '52743',\n",
       " 'Learn HTML': '61749',\n",
       " 'Programming Hub, Learn to code': '55704',\n",
       " 'Learn SQL': '19277',\n",
       " 'Ready4 SAT (Prep4 SAT)': '13612',\n",
       " 'Socratic - Math Answers & Homework Help': '37862',\n",
       " 'Ready4 GMAT (Prep4 GMAT)': '18372',\n",
       " 'Pocket GMAT Math': '656',\n",
       " 'GMAT Question Bank': '240',\n",
       " 'GRE Tutor': '275',\n",
       " 'GRE Flashcards': '13791',\n",
       " 'play2prep: ACT, SAT prep': '3692',\n",
       " 'SAT Test': '2363',\n",
       " 'GMAT Math Flashcards': '1769',\n",
       " 'Pocket SAT Math': '430',\n",
       " 'TOEFL Prep & Practice from Magoosh': '756',\n",
       " 'GRE Prep & Practice by Magoosh': '3963',\n",
       " 'GRE® Flashcards by Kaplan': '316',\n",
       " 'SAT Vocabulary': '642',\n",
       " 'Magoosh GMAT Prep & Practice': '1058',\n",
       " 'SAT Flashcards: Prep & Vocabulary': '2277',\n",
       " 'Rosetta Stone: Learn to Speak & Read New Languages': '172508',\n",
       " 'Google Classroom': '69498',\n",
       " 'LinkedIn Learning: Online Courses to Learn Skills': '7973',\n",
       " 'Learn English with Phrases': '5695',\n",
       " 'Free english course': '142632',\n",
       " 'Learn 50 languages': '55256',\n",
       " 'Babbel – Learn Spanish': '54798',\n",
       " 'Mango Languages: Lovable Language Courses': '4815',\n",
       " 'Learn English with Aco': '75112',\n",
       " 'Learn to Speak English': '33646',\n",
       " 'busuu: Learn Languages - Spanish, English & More': '207294',\n",
       " 'My Class Schedule: Timetable': '9348',\n",
       " 'Study Checker': '3816',\n",
       " 'My Study Life - School Planner': '47847',\n",
       " 'HomeWork': '16195',\n",
       " 'Next Gen Science Standards': '206',\n",
       " 'myHomework Student Planner': '28392',\n",
       " \"Teacher's Gradebook - Additio\": '3241',\n",
       " 'Common Core': '835',\n",
       " 'Homework Planner': '2525',\n",
       " 'TeachersPayTeachers': '828',\n",
       " 'Edmodo': '200214',\n",
       " 'Socrative Teacher': '1239',\n",
       " 'Training schedule - AllUniver': '702',\n",
       " 'Remind: School Communication': '108613',\n",
       " 'ClassDojo': '148550',\n",
       " 'Lerni. Learn languages.': '3847',\n",
       " 'HelloTalk — Chat, Speak & Learn Foreign Languages': '84311',\n",
       " 'Innovative: Learn 34 Languages': '14206',\n",
       " 'Chegg Study - Homework Help': '14700',\n",
       " 'Canvas Student': '42828',\n",
       " 'Timetable': '40209',\n",
       " 'EasyBib: Citation Generator': '1405',\n",
       " 'SoloLearn: Learn to Code for Free': '256079',\n",
       " 'Kids Learn Languages by Mondly': '2078',\n",
       " 'Blinkist - Nonfiction Books': '16103',\n",
       " 'Sago Mini Hat Maker': '11',\n",
       " 'Fuzzy Numbers: Pre-K Number Foundation': '21',\n",
       " 'Toca Life: City': '31100',\n",
       " 'Toca Life: Hospital': '3528',\n",
       " 'Netflix': '5456708',\n",
       " 'Complete Spanish Movies': '11656',\n",
       " 'Pluto TV - It’s Free TV': '28948',\n",
       " 'Tubi TV - Free Movies & TV': '296829',\n",
       " 'YouTube Kids': '470713',\n",
       " 'Mobile TV': '10939',\n",
       " 'TV+': '98509',\n",
       " 'Digital TV': '5241',\n",
       " 'Motorola Spotlight Player™': '22508',\n",
       " 'Vigo Lite': '10291',\n",
       " 'Google Play Games': '7168735',\n",
       " 'Hotstar': '4885646',\n",
       " 'Peers.TV: broadcast TV channels First, Match TV, TNT ...': '141980',\n",
       " 'The green alien dance': '6979',\n",
       " 'Spectrum TV': '46618',\n",
       " 'H TV': '103078',\n",
       " 'StarTimes - Live International Champions Cup': '17682',\n",
       " 'Cinematic Cinematic': '37000',\n",
       " 'MEGOGO - Cinema and TV': '175528',\n",
       " 'Talking Angela': '1828284',\n",
       " 'DStv Now': '34923',\n",
       " 'ivi - movies and TV shows in HD': '684116',\n",
       " 'Radio Javan': '46916',\n",
       " 'Viki: Asian TV Dramas & Movies': '407719',\n",
       " 'Talking Ginger 2': '702975',\n",
       " 'Girly Lock Screen Wallpaper with Quotes': '32458',\n",
       " 'No.Draw - Colors by Number 2018': '235906',\n",
       " '🔥 Football Wallpapers 4K | Full HD Backgrounds 😍': '11661',\n",
       " 'Movies by Flixster, with Rotten Tomatoes': '653008',\n",
       " 'Low Poly – Puzzle art game': '23063',\n",
       " 'BBC Media Player': '87384',\n",
       " 'Amazon Prime Video': '411683',\n",
       " 'Adult Glitter Color by Number Book - Sandbox Pages': '8918',\n",
       " 'IMDb Movies & TV': '501498',\n",
       " 'Twitch: Livestream Multiplayer Games & Esports': '2133296',\n",
       " 'Ziggo GO': '29690',\n",
       " 'YouTube Gaming': '130549',\n",
       " 'PlayStation App': '613059',\n",
       " 'Talking Ben the Dog': '1633682',\n",
       " 'Red Bull TV: Live Sports, Music & Entertainment': '42069',\n",
       " 'Trailer Addict Movie Trailers': '2646',\n",
       " 'Cinemark Theatres': '21867',\n",
       " 'Regal Cinemas': '32732',\n",
       " 'Fandango Movies - Times + Tickets': '243747',\n",
       " 'Marcus Theatres': '2639',\n",
       " 'Harkins Theatres': '1511',\n",
       " 'AMC Theatres': '44550',\n",
       " 'Food Network': '7823',\n",
       " 'Cooking Channel': '1033',\n",
       " 'Animal Planet GO': '2442',\n",
       " 'VRV: Anime, game videos & more': '15254',\n",
       " 'DramaFever: Stream Asian Drama Shows & Movies': '155234',\n",
       " 'Crunchyroll - Everything Anime': '310095',\n",
       " 'Investigation Discovery GO': '12216',\n",
       " 'Crackle - Free TV & Movies': '388089',\n",
       " 'CBS - Full Episodes & Live TV': '92058',\n",
       " 'STARZ': '88185',\n",
       " 'Acorn TV: World-class TV from Britain and Beyond': '493',\n",
       " 'HISTORY: Watch TV Show Full Episodes & Specials': '33387',\n",
       " 'Nick': '123322',\n",
       " 'VH1': '27424',\n",
       " 'FOX NOW - On Demand & Live TV': '60841',\n",
       " 'A&E - Watch Full Episodes of TV Shows': '29708',\n",
       " 'The CW': '288209',\n",
       " 'BET NOW - Watch Shows': '14807',\n",
       " 'Hulu: Stream TV, Movies & more': '319777',\n",
       " 'HBO NOW: Stream TV & Movies': '61230',\n",
       " 'Univision NOW - Live TV and On Demand': '22998',\n",
       " 'SHOWTIME': '12398',\n",
       " 'Lifetime - Watch Full Episodes & Original Movies': '35931',\n",
       " 'SeriesGuide – Show & Movie Manager': '64448',\n",
       " 'Comedy Central': '22378',\n",
       " 'CW Seed': '16391',\n",
       " 'The NBC App - Watch Live TV and Full Episodes': '58104',\n",
       " 'WWE': '736864',\n",
       " 'Universal Kids': '1968',\n",
       " 'MTV': '35279',\n",
       " 'LEGO® TV': '17250',\n",
       " 'HBO GO: Stream with TV Package': '87734',\n",
       " 'Showtime Anytime': '18523',\n",
       " 'PlayKids - Educational cartoons and games for kids': '182173',\n",
       " 'FOX': '197774',\n",
       " 'Telemundo Now': '8674',\n",
       " 'Vudu Movies & TV': '58082',\n",
       " 'Yidio: TV Show & Movie Guide': '27424',\n",
       " 'Redbox': '115033',\n",
       " 'Tribeca Shortlist - Handpicked Movies': '801',\n",
       " 'Nick Jr. - Shows & Games': '8968',\n",
       " 'Sticker Market: Emoji keyboard': '303',\n",
       " 'Kidjo TV Kids Have Fun & Learn': '732',\n",
       " 'Laugh Out Loud by Kevin Hart': '1856',\n",
       " 'ColorFul - Adult Coloring Book': '50725',\n",
       " 'Hamilton — The Official App': '1575',\n",
       " 'My Talking Pet': '6238',\n",
       " 'Funny Pics': '9941',\n",
       " 'Funny Quotes Free': '23666',\n",
       " 'LOL Pics (Funny Pictures)': '67554',\n",
       " 'Meme Creator': '38769',\n",
       " 'Imgur: Find funny GIFs, memes & watch viral videos': '160164',\n",
       " 'Meme Generator': '3771',\n",
       " 'SketchBook - draw and paint': '256664',\n",
       " 'Colorfy: Coloring Book for Adults - Free': '787177',\n",
       " 'All Events in City': '3782',\n",
       " 'Ticketmaster Event Tickets': '40113',\n",
       " 'Reminder': '7074',\n",
       " 'Birdays - Birthday reminder': '2153',\n",
       " 'StubHub - Tickets to Sports, Concerts & Events': '26089',\n",
       " 'Fever': '20611',\n",
       " 'DroidAdmin for Android - Advice': '811',\n",
       " 'SeatGeek – Tickets to Sports, Concerts, Broadway': '15558',\n",
       " 'my4D': '573',\n",
       " 'VAN NIAN 2018 - Vietnamese Calendar': '37',\n",
       " 'Vivid Seats – Event Tickets': '8232',\n",
       " 'Name days': '3089',\n",
       " 'LBB - Find New & Unique Things To Do Around You': '3874',\n",
       " 'Happy Birthday Songs Offline': '464',\n",
       " 'Series Valley of the Wolves full of part': '731',\n",
       " 'Mummatikabalkuragi': '69',\n",
       " 'Gametime - Tickets to Sports, Concerts, Theater': '8800',\n",
       " 'PTI Flex Maker, Photo Frame Editor & Songs 2018': '99',\n",
       " 'Wipe out': '30',\n",
       " 'Birthdays & Other Events': '456',\n",
       " 'Sarajevo Film Festival - Official': '6',\n",
       " 'Summer Madness': '4',\n",
       " 'Events High - Meet Your City!': '3200',\n",
       " 'vide-greniers.org': '5839',\n",
       " 'SUMMER SONIC app': '4',\n",
       " 'Quake & Volcanoes: 3D Globe of Volcanic Eruptions': '663',\n",
       " 'Prosperity': '16',\n",
       " \"Picktrainer: India's largest photo contest app\": '1065',\n",
       " 'AAS-IN-ASIA 2018': '3',\n",
       " 'Moot Peru 2018': '13',\n",
       " 'FM News': '46',\n",
       " 'Goldstar: Live Event Tickets': '1953',\n",
       " 'Emmabodafestivalen': '12',\n",
       " 'KudaGo - things to do in NY': '4298',\n",
       " 'Mindvalley U Tallinn 2018': '1',\n",
       " 'Rockmaraton Info': '49',\n",
       " 'Freitas Auctioneer Official': '100',\n",
       " 'mobLee Events': '11',\n",
       " 'Xceed - Clubs, DJs, Festivals & Tickets': '399',\n",
       " 'AMM Events & CPD': '5',\n",
       " 'Arab Halls - For Wedding & Events': '28',\n",
       " 'MeAuDote - An act of love that saves a life': '250',\n",
       " 'TCF National Conference': '1',\n",
       " 'Endurance Lifestyle': '7',\n",
       " 'K PLUS': '124424',\n",
       " 'ING Banking': '39041',\n",
       " 'Citibanamex Movil': '52306',\n",
       " 'The postal bank': '36718',\n",
       " 'KTB Netbank': '42644',\n",
       " 'Mobile Bancomer': '278082',\n",
       " 'Nedbank Money': '6076',\n",
       " 'SCB EASY': '112656',\n",
       " 'CASHIER': '335738',\n",
       " 'Rabo Banking': '31906',\n",
       " 'Capitec Remote Banking': '20672',\n",
       " 'Itau bank': '957973',\n",
       " 'Nubank': '130582',\n",
       " 'The Societe Generale App': '31218',\n",
       " 'IKO': '167168',\n",
       " 'Cash App': '34428',\n",
       " 'Standard Bank / Stanbic Bank': '15247',\n",
       " 'Bualuang mBanking': '48445',\n",
       " 'Intesa Sanpaolo Mobile': '35518',\n",
       " 'UBA Mobile Banking': '12185',\n",
       " 'BBVA Spain': '36746',\n",
       " 'MyMo by GSB': '21996',\n",
       " 'VTB-Online': '138371',\n",
       " 'Ecobank Mobile Banking': '12073',\n",
       " 'Banorte Movil': '111632',\n",
       " 'Wells Fargo Mobile': '250719',\n",
       " 'Credit Karma': '706618',\n",
       " 'BZWBK24 mobile': '64983',\n",
       " 'PayPal': '659760',\n",
       " 'Capital One® Mobile': '510401',\n",
       " 'Zenith Bank Mobile App': '7215',\n",
       " 'GCash - Buy Load, Pay Bills, Send Money': '25508',\n",
       " 'Post Bank': '60449',\n",
       " 'İşCep': '381788',\n",
       " \"People's Bank\": '10697',\n",
       " 'Google Pay': '348132',\n",
       " 'Transfer': '31804',\n",
       " 'T-Mobile in': '3856',\n",
       " 'TrueMoney Wallet': '199684',\n",
       " 'Alfa-Bank (Alfa-Bank)': '44545',\n",
       " 'Bank of Brazil': '1336246',\n",
       " 'WiseBanyan - Invest For Free': '257',\n",
       " 'Robinhood - Investing, No Fees': '57493',\n",
       " 'Wells Fargo Daily Change': '283',\n",
       " 'Even - organize your money, get paid early': '12304',\n",
       " 'Digit Save Money Automatically': '8188',\n",
       " 'Stash: Invest. Learn. Save.': '11919',\n",
       " 'Acorns - Invest Spare Change': '45962',\n",
       " 'Money Lover: Expense Tracker, Budget Planner': '126447',\n",
       " 'Expense IQ Money Manager': '21570',\n",
       " 'Money Manager Expense & Budget': '134564',\n",
       " 'Prism Pay Bills, Track Money, Personal Finance': '16961',\n",
       " 'Monefy - Money Manager': '111254',\n",
       " 'Simple - Better Banking': '7731',\n",
       " 'Chime - Mobile Banking': '5928',\n",
       " 'Bluebird by American Express': '15703',\n",
       " 'Walmart MoneyCard': '6148',\n",
       " 'Moven - Smart Finances': '861',\n",
       " 'Qapital - Save Small. Live Large': '8662',\n",
       " 'Experian - Free Credit Report': '23130',\n",
       " 'Branch': '69973',\n",
       " 'WalletHub - Free Credit Score, Report & Monitoring': '1311',\n",
       " 'CreditWise from Capital One': '26587',\n",
       " 'NerdWallet: Personal Finance, Credit Score & Cash': '2417',\n",
       " 'my face': '1054',\n",
       " 'Credit Sesame': '25166',\n",
       " 'Mint: Budget, Bills, Finance': '129305',\n",
       " 'Fresh EBT - Food Stamp Balance': '19870',\n",
       " 'Hurdlr: Track Mileage, Expenses, and Log Receipts': '3596',\n",
       " 'Mobills: Budget Planner': '161440',\n",
       " 'Everlance: Free Mileage Log': '7514',\n",
       " 'MileIQ - Free Mileage Tracker for Business': '46106',\n",
       " 'QuickBooks Self-Employed:Mileage Tracker and Taxes': '15141',\n",
       " 'FREE Stock Market Trading Tips': '714',\n",
       " 'MetaTrader 5': '42410',\n",
       " 'MetaTrader 4': '260547',\n",
       " 'Stock Quote': '4344',\n",
       " 'Seeking Alpha': '22808',\n",
       " 'Stock Trainer: Virtual Trading (Stock Markets)': '42809',\n",
       " 'Stocks: Realtime Quotes Charts': '16808',\n",
       " 'Stocks, Forex, Bitcoin, Ethereum: Portfolio & News': '157505',\n",
       " 'CNBC: Breaking Business News & Live Market Data': '24666',\n",
       " 'US Stock Market': '1922',\n",
       " 'Bloomberg Professional': '3334',\n",
       " 'E*TRADE Mobile': '10658',\n",
       " 'MSN Money- Stock Quotes & News': '78361',\n",
       " 'Fox Business': '2594',\n",
       " 'NSE Mobile Trading': '13868',\n",
       " 'Yahoo Finance': '135952',\n",
       " 'JStock - Stock Market, Portfolio & News': '11066',\n",
       " 'Webull - Stock Quotes & Free Stock Trading': '34861',\n",
       " 'Trading 212 - Forex, Stocks, CFDs': '37580',\n",
       " 'Moneycontrol – Stocks, Sensex, Mutual Funds, IPO': '281635',\n",
       " 'Current debit card and app made for teens': '685',\n",
       " 'Betterment': '3780',\n",
       " 'Citizens Bank Mobile Banking': '15192',\n",
       " 'GoBank': '5950',\n",
       " 'NetSpend Prepaid': '15993',\n",
       " 'BBVA Compass Banking': '5905',\n",
       " 'BankMobile Vibe App': '14627',\n",
       " 'Netspend Skylight ONE': '1098',\n",
       " 'ACE Elite': '2898',\n",
       " 'U.S. Bank': '70782',\n",
       " 'Huntington Mobile': '11264',\n",
       " 'USAA Mobile': '100997',\n",
       " 'Associated Credit Union Mobile': '3290',\n",
       " 'Bank of America Mobile Banking': '341090',\n",
       " 'USE Credit Union Mobile': '964',\n",
       " 'Discover Mobile': '87951',\n",
       " 'Amex Mobile': '24729',\n",
       " 'Citi Mobile®': '78306',\n",
       " 'Navy Federal Credit Union': '43313',\n",
       " 'Chase Mobile': '1374549',\n",
       " 'HDFC Bank MobileBanking': '208463',\n",
       " 'Barclays US for Android': '6998',\n",
       " \"McDonald's\": '145646',\n",
       " 'Easy and Fast Recipes': '95',\n",
       " 'Cookpad - FREE recipe search makes fun cooking · musical making!': '64784',\n",
       " 'DELISH KITCHEN - FREE recipe movies make food fun and easy!': '32997',\n",
       " 'Sumine side dish - dish recipe side dish': '82',\n",
       " 'Easy Recipes': '2707',\n",
       " 'Delicious Recipes': '129737',\n",
       " 'Tastely': '611136',\n",
       " 'Pastry & Cooking (Without Net)': '6118',\n",
       " 'Frigo Magic: Easy recipe idea and anti-waste': '2473',\n",
       " \"McDonald's - McDonald's Japan\": '109784',\n",
       " 'Debonairs Pizza': '3320',\n",
       " 'Popeyes® App': '61',\n",
       " \"Dunkin' Donuts\": '68270',\n",
       " 'Pyaterochka': '8412',\n",
       " 'Refreshing app Free application that can use deal coupons': '10741',\n",
       " 'Simple Recipes': '3803',\n",
       " 'Grubhub: Food Delivery': '155944',\n",
       " 'Panera Bread': '10225',\n",
       " 'Chick-fil-A': '28009',\n",
       " 'hellofood - Food Delivery': '43614',\n",
       " 'Starbucks': '455496',\n",
       " 'Easy and quick desserts': '1398',\n",
       " \"Domino's Pizza USA\": '1032935',\n",
       " 'Chef - Recipes & Cooking': '32405',\n",
       " 'Delivery Club-food delivery: pizza, sushi, burger, salad': '151080',\n",
       " 'HungerStation': '22513',\n",
       " 'Delivery yogi.': '90042',\n",
       " 'Delivery trough - delivery trough delivery trough': '58316',\n",
       " 'Dr. Oetker recipe ideas': '8509',\n",
       " 'SONIC Drive-In': '19373',\n",
       " 'SUBWAY®': '21381',\n",
       " 'GialloZafferano: Recipes': '30224',\n",
       " 'Dairy Queen': '742',\n",
       " '9th stage': '454',\n",
       " 'OpenRice': '14952',\n",
       " 'SarashpazPapion (Cooking with Chef Bowls)': '1250',\n",
       " 'Little Caesars': '1726',\n",
       " 'Recipes Pastries and homemade pies More than 500 recipes for pastries': '14065',\n",
       " 'Om Waleed Sweets': '556',\n",
       " 'Eat Fast Prepare \"Without Internet\"': '4925',\n",
       " 'Wendy’s – Food and Offers': '6512',\n",
       " 'My Recipes Cookbook : RecetteTek': '11707',\n",
       " 'Healthy Recipes Free': '1077',\n",
       " 'Cookbook Recipes': '46539',\n",
       " 'ChefTap Recipes & Grocery List': '9066',\n",
       " 'Recipe Keeper': '1962',\n",
       " 'My CookBook (Recipe Manager)': '22071',\n",
       " ...}"
      ]
     },
     "execution_count": 28,
     "metadata": {},
     "output_type": "execute_result"
    }
   ],
   "source": [
    "reviews"
   ]
  },
  {
   "cell_type": "code",
   "execution_count": 29,
   "id": "81ad5569",
   "metadata": {},
   "outputs": [],
   "source": [
    "#data_clean = []\n",
    "\n",
    "\n",
    "#for i in data:\n",
    " #   app_name = i[0]\n",
    "  #  n_reviews = i[3]\n",
    "   # \n",
    "    #if reviews[app_name] == n_reviews:\n",
    "     #   data_clean.append(i)"
   ]
  },
  {
   "cell_type": "code",
   "execution_count": 30,
   "id": "30eb4d69",
   "metadata": {},
   "outputs": [],
   "source": [
    "#len(data_clean) #data has still exceed the original data 9660. the number of 10056 are mix of duplicate apps"
   ]
  },
  {
   "cell_type": "code",
   "execution_count": 31,
   "id": "338ec287",
   "metadata": {},
   "outputs": [],
   "source": [
    "# how to removes duplicate app"
   ]
  },
  {
   "cell_type": "code",
   "execution_count": 32,
   "id": "09d30161",
   "metadata": {},
   "outputs": [],
   "source": [
    "data_clean = []\n",
    "already_added = []\n",
    "for i in data:\n",
    "    app_name = i[0]\n",
    "    n_reviews= i[3]\n",
    "    if reviews[app_name] == n_reviews and app_name not in already_added:\n",
    "        data_clean.append(i)\n",
    "        already_added.append(app_name)"
   ]
  },
  {
   "cell_type": "code",
   "execution_count": 33,
   "id": "9a9a696c",
   "metadata": {},
   "outputs": [
    {
     "data": {
      "text/plain": [
       "9660"
      ]
     },
     "execution_count": 33,
     "metadata": {},
     "output_type": "execute_result"
    }
   ],
   "source": [
    "len(data_clean)"
   ]
  },
  {
   "cell_type": "code",
   "execution_count": 34,
   "id": "49358cca",
   "metadata": {},
   "outputs": [
    {
     "data": {
      "text/plain": [
       "'Tennis Temple - Live Scores'"
      ]
     },
     "execution_count": 34,
     "metadata": {},
     "output_type": "execute_result"
    }
   ],
   "source": [
    "data_clean[2233][0]"
   ]
  },
  {
   "cell_type": "code",
   "execution_count": 35,
   "id": "fc3a2ebb",
   "metadata": {},
   "outputs": [
    {
     "data": {
      "text/plain": [
       "'b'"
      ]
     },
     "execution_count": 35,
     "metadata": {},
     "output_type": "execute_result"
    }
   ],
   "source": [
    "chr(98)"
   ]
  },
  {
   "cell_type": "code",
   "execution_count": 36,
   "id": "5531bb81",
   "metadata": {},
   "outputs": [
    {
     "data": {
      "text/plain": [
       "97"
      ]
     },
     "execution_count": 36,
     "metadata": {},
     "output_type": "execute_result"
    }
   ],
   "source": [
    "ord(\"a\")"
   ]
  },
  {
   "cell_type": "code",
   "execution_count": 37,
   "id": "ead037d9",
   "metadata": {},
   "outputs": [
    {
     "name": "stdout",
     "output_type": "stream",
     "text": [
      "\u0000\n",
      "\u0001\n",
      "\u0002\n",
      "\u0003\n",
      "\u0004\n",
      "\u0005\n",
      "\u0006\n",
      "\u0007\n",
      "\b\n",
      "\t\n",
      "\n",
      "\n",
      "\u000b",
      "\n",
      "\f",
      "\n",
      "\r\n",
      "\u000e\n",
      "\u000f\n",
      "\u0010\n",
      "\u0011\n",
      "\u0012\n",
      "\u0013\n",
      "\u0014\n",
      "\u0015\n",
      "\u0016\n",
      "\u0017\n",
      "\u0018\n",
      "\u0019\n",
      "\u001a\n",
      "\u001b\n",
      "\u001c",
      "\n",
      "\u001d",
      "\n",
      "\u001e",
      "\n",
      "\u001f\n",
      " \n",
      "!\n",
      "\"\n",
      "#\n",
      "$\n",
      "%\n",
      "&\n",
      "'\n",
      "(\n",
      ")\n",
      "*\n",
      "+\n",
      ",\n",
      "-\n",
      ".\n",
      "/\n",
      "0\n",
      "1\n",
      "2\n",
      "3\n",
      "4\n",
      "5\n",
      "6\n",
      "7\n",
      "8\n",
      "9\n",
      ":\n",
      ";\n",
      "<\n",
      "=\n",
      ">\n",
      "?\n",
      "@\n",
      "A\n",
      "B\n",
      "C\n",
      "D\n",
      "E\n",
      "F\n",
      "G\n",
      "H\n",
      "I\n",
      "J\n",
      "K\n",
      "L\n",
      "M\n",
      "N\n",
      "O\n",
      "P\n",
      "Q\n",
      "R\n",
      "S\n",
      "T\n",
      "U\n",
      "V\n",
      "W\n",
      "X\n",
      "Y\n",
      "Z\n",
      "[\n",
      "\\\n",
      "]\n",
      "^\n",
      "_\n",
      "`\n",
      "a\n",
      "b\n",
      "c\n",
      "d\n",
      "e\n",
      "f\n",
      "g\n",
      "h\n",
      "i\n",
      "j\n",
      "k\n",
      "l\n",
      "m\n",
      "n\n",
      "o\n",
      "p\n",
      "q\n",
      "r\n",
      "s\n",
      "t\n",
      "u\n",
      "v\n",
      "w\n",
      "x\n",
      "y\n",
      "z\n",
      "{\n",
      "|\n",
      "}\n",
      "~\n",
      "\n"
     ]
    }
   ],
   "source": [
    "for i in range (0,128):\n",
    "    print(chr(i))"
   ]
  },
  {
   "cell_type": "code",
   "execution_count": 38,
   "id": "f4e381cc",
   "metadata": {},
   "outputs": [],
   "source": [
    "def is_english(app_name): #Instagram\n",
    "    lst = []\n",
    "    for i in app_name:\n",
    "        if ord(i) > 127:\n",
    "            lst.append(False)\n",
    "        else:\n",
    "            lst.append(True)\n",
    "    check = set(lst)\n",
    "    if False in lst:\n",
    "        return False\n",
    "    else:\n",
    "        return True    "
   ]
  },
  {
   "cell_type": "code",
   "execution_count": 39,
   "id": "9d9a816e",
   "metadata": {},
   "outputs": [
    {
     "data": {
      "text/plain": [
       "True"
      ]
     },
     "execution_count": 39,
     "metadata": {},
     "output_type": "execute_result"
    }
   ],
   "source": [
    "is_english (\"Instagram\")"
   ]
  },
  {
   "cell_type": "code",
   "execution_count": 40,
   "id": "9dc3a144",
   "metadata": {},
   "outputs": [
    {
     "data": {
      "text/plain": [
       "False"
      ]
     },
     "execution_count": 40,
     "metadata": {},
     "output_type": "execute_result"
    }
   ],
   "source": [
    "is_english(\"🔥 Football Wallpapers 4K | Full HD Backgrounds 😍\")"
   ]
  },
  {
   "cell_type": "code",
   "execution_count": 41,
   "id": "1f9add83",
   "metadata": {},
   "outputs": [
    {
     "data": {
      "text/plain": [
       "128525"
      ]
     },
     "execution_count": 41,
     "metadata": {},
     "output_type": "execute_result"
    }
   ],
   "source": [
    "ord(\"😍\")"
   ]
  },
  {
   "cell_type": "code",
   "execution_count": 42,
   "id": "a752a150",
   "metadata": {},
   "outputs": [
    {
     "data": {
      "text/plain": [
       "'😍'"
      ]
     },
     "execution_count": 42,
     "metadata": {},
     "output_type": "execute_result"
    }
   ],
   "source": [
    "chr(128525)"
   ]
  },
  {
   "cell_type": "code",
   "execution_count": 43,
   "id": "98d46f68",
   "metadata": {},
   "outputs": [],
   "source": [
    "def is_english(app_name): #revising a function \n",
    "    lst = []\n",
    "    for i in app_name:\n",
    "        if ord(i) > 127:\n",
    "            lst.append(False)\n",
    "        else:\n",
    "            lst.append(True)\n",
    "    \n",
    "    non_ascii = 0\n",
    "    for j in lst:\n",
    "        if j == False:\n",
    "            non_ascii +=1\n",
    "    \n",
    "    if non_ascii > 3:\n",
    "        return False\n",
    "    else:\n",
    "        return True    "
   ]
  },
  {
   "cell_type": "code",
   "execution_count": 44,
   "id": "db4becae",
   "metadata": {},
   "outputs": [
    {
     "data": {
      "text/plain": [
       "True"
      ]
     },
     "execution_count": 44,
     "metadata": {},
     "output_type": "execute_result"
    }
   ],
   "source": [
    "is_english (\"Instagram😍\")"
   ]
  },
  {
   "cell_type": "code",
   "execution_count": 45,
   "id": "1636018f",
   "metadata": {},
   "outputs": [
    {
     "data": {
      "text/plain": [
       "True"
      ]
     },
     "execution_count": 45,
     "metadata": {},
     "output_type": "execute_result"
    }
   ],
   "source": [
    "is_english (\"Instagram😍😍😍\")"
   ]
  },
  {
   "cell_type": "code",
   "execution_count": 46,
   "id": "13d666c3",
   "metadata": {},
   "outputs": [
    {
     "data": {
      "text/plain": [
       "False"
      ]
     },
     "execution_count": 46,
     "metadata": {},
     "output_type": "execute_result"
    }
   ],
   "source": [
    "is_english (\"Instagram😍😍😍😍\")"
   ]
  },
  {
   "cell_type": "code",
   "execution_count": 47,
   "id": "38874301",
   "metadata": {},
   "outputs": [],
   "source": [
    "data_english= []\n",
    "data_non_english = []\n",
    "for i in data_clean:\n",
    "    app_name=(i[0])\n",
    "    if is_english(app_name):\n",
    "        data_english.append(i)\n",
    "    else:\n",
    "        data_non_english.append(i)"
   ]
  },
  {
   "cell_type": "code",
   "execution_count": 48,
   "id": "4f4b22b6",
   "metadata": {},
   "outputs": [
    {
     "data": {
      "text/plain": [
       "9615"
      ]
     },
     "execution_count": 48,
     "metadata": {},
     "output_type": "execute_result"
    }
   ],
   "source": [
    "len(data_english)"
   ]
  },
  {
   "cell_type": "code",
   "execution_count": 49,
   "id": "f14e8e67",
   "metadata": {},
   "outputs": [
    {
     "name": "stdout",
     "output_type": "stream",
     "text": [
      "Flame - درب عقلك يوميا\n",
      "သိင်္ Astrology - Min Thein Kha BayDin\n",
      "РИА Новости\n",
      "صور حرف H\n",
      "L.POINT - 엘포인트 [ 포인트, 멤버십, 적립, 사용, 모바일 카드, 쿠폰, 롯데]\n",
      "RMEduS - 음성인식을 활용한 R 프로그래밍 실습 시스템\n",
      "AJ렌터카 법인 카셰어링\n",
      "Al Quran Free - القرآن (Islam)\n",
      "中国語 AQリスニング\n",
      "日本AV历史\n",
      "Ay Yıldız Duvar Kağıtları\n",
      "বাংলা টিভি প্রো BD Bangla TV\n",
      "Cъновник BG\n",
      "CSCS BG (в български)\n",
      "뽕티비 - 개인방송, 인터넷방송, BJ방송\n",
      "BL 女性向け恋愛ゲーム◆俺プリクロス\n",
      "SecondSecret ‐「恋を読む」BLノベルゲーム‐\n",
      "BL 女性向け恋愛ゲーム◆ごくメン\n",
      "あなカレ【BL】無料ゲーム\n",
      "감성학원 BL 첫사랑\n",
      "BQ-መጽሐፍ ቅዱሳዊ ጥያቄዎች\n",
      "BS Calendar / Patro / पात्रो\n",
      "Vip视频免费看-BT磁力搜索\n",
      "Билеты ПДД CD 2019 PRO\n",
      "Offline Jízdní řády CG Transit\n",
      "Bonjour 2017 Abidjan CI ❤❤❤❤❤\n",
      "CK 初一 十五\n",
      "الفاتحون Conquerors\n",
      "DG ग्राम / Digital Gram Panchayat\n",
      "DM הפקות\n",
      "DW فارسی By dw-arab.com\n",
      "لعبة تقدر تربح DZ\n",
      "বাংলাflix\n",
      "RPG ブレイジング ソウルズ アクセレイト\n",
      "英漢字典 EC Dictionary\n",
      "ECナビ×シュフー\n",
      "أحداث وحقائق | خبر عاجل في اخبار العالم\n",
      "EG SIM CARD (EGSIMCARD, 이지심카드)\n",
      "パーリーゲイツ公式通販｜EJ STYLE（イージェイスタイル）\n",
      "FAHREDDİN er-RÂZİ TEFSİRİ\n",
      "I'm Rich/Eu sou Rico/أنا غني/我很有錢\n",
      "AÖF Ev İdaresi 1. Sınıf\n",
      "Ey Sey Storytime រឿងនិទានតាឥសី\n",
      "哈哈姆特不EY\n",
      "FP Разбитый дисплей\n"
     ]
    }
   ],
   "source": [
    "for i in data_non_english:\n",
    "    print (i[0])"
   ]
  },
  {
   "cell_type": "code",
   "execution_count": 50,
   "id": "8b0f835c",
   "metadata": {},
   "outputs": [
    {
     "data": {
      "text/plain": [
       "45"
      ]
     },
     "execution_count": 50,
     "metadata": {},
     "output_type": "execute_result"
    }
   ],
   "source": [
    "len(data_non_english)"
   ]
  },
  {
   "cell_type": "code",
   "execution_count": 51,
   "id": "448dddff",
   "metadata": {},
   "outputs": [],
   "source": [
    "data_final= []\n",
    "\n",
    "for i in data_english:\n",
    "    price = (i[-6])     # csv file import krte hen to python har chix ko strin count karta ha chaho isko int me convert krlo ya sting se hi kam kro hume 0 se hi kam hai waise\n",
    "    if \"0\" == price:\n",
    "        data_final.append(i)\n",
    "            "
   ]
  },
  {
   "cell_type": "code",
   "execution_count": 52,
   "id": "c7cf5ef8",
   "metadata": {},
   "outputs": [
    {
     "data": {
      "text/plain": [
       "8863"
      ]
     },
     "execution_count": 52,
     "metadata": {},
     "output_type": "execute_result"
    }
   ],
   "source": [
    "len(data_final)"
   ]
  },
  {
   "cell_type": "code",
   "execution_count": 53,
   "id": "d9a86baa",
   "metadata": {},
   "outputs": [],
   "source": [
    "categories = []\n",
    "for i in data_final:\n",
    "    categories.append(i[1])\n",
    "    "
   ]
  },
  {
   "cell_type": "code",
   "execution_count": 54,
   "id": "df430f81",
   "metadata": {},
   "outputs": [],
   "source": [
    "uni_cat=list(set(categories))"
   ]
  },
  {
   "cell_type": "code",
   "execution_count": 55,
   "id": "a5e74bdc",
   "metadata": {},
   "outputs": [
    {
     "name": "stdout",
     "output_type": "stream",
     "text": [
      "['HEALTH_AND_FITNESS', 'PHOTOGRAPHY', 'BEAUTY', 'MEDICAL', 'SHOPPING', 'VIDEO_PLAYERS', 'GAME', 'ART_AND_DESIGN', 'BUSINESS', 'AUTO_AND_VEHICLES', 'LIFESTYLE', 'TRAVEL_AND_LOCAL', 'FINANCE', 'BOOKS_AND_REFERENCE', 'HOUSE_AND_HOME', 'LIBRARIES_AND_DEMO', 'SPORTS', 'TOOLS', 'PARENTING', 'NEWS_AND_MAGAZINES', 'COMMUNICATION', 'WEATHER', 'EDUCATION', 'DATING', 'EVENTS', 'FAMILY', 'PERSONALIZATION', 'ENTERTAINMENT', 'PRODUCTIVITY', 'MAPS_AND_NAVIGATION', 'SOCIAL', 'FOOD_AND_DRINK', 'COMICS']\n"
     ]
    },
    {
     "data": {
      "text/plain": [
       "33"
      ]
     },
     "execution_count": 55,
     "metadata": {},
     "output_type": "execute_result"
    }
   ],
   "source": [
    "print(uni_cat)\n",
    "len(uni_cat)"
   ]
  },
  {
   "cell_type": "code",
   "execution_count": 58,
   "id": "1f7ff71c",
   "metadata": {},
   "outputs": [],
   "source": [
    "avg_installation = []\n",
    "for cat in uni_cat:\n",
    "    total_inst = 0\n",
    "    no_inst = 0\n",
    "    for i in data_final:\n",
    "        categories = i[1]\n",
    "        if cat == categories:\n",
    "            n_install = i[5]\n",
    "            n_install = int(n_install.replace(\"+\",\"\").replace(\",\",\"\"))\n",
    "            total_inst += n_install\n",
    "            no_inst += 1\n",
    "    avg_install = round(total_inst / no_inst)\n",
    "    avg_installation.append([avg_install,cat])"
   ]
  },
  {
   "cell_type": "code",
   "execution_count": 64,
   "id": "a920569c",
   "metadata": {},
   "outputs": [
    {
     "data": {
      "text/plain": [
       "[[38456119, 'COMMUNICATION'],\n",
       " [24727872, 'VIDEO_PLAYERS'],\n",
       " [23253652, 'SOCIAL'],\n",
       " [17805628, 'PHOTOGRAPHY'],\n",
       " [16787331, 'PRODUCTIVITY'],\n",
       " [15560966, 'GAME'],\n",
       " [13984078, 'TRAVEL_AND_LOCAL'],\n",
       " [11640706, 'ENTERTAINMENT'],\n",
       " [10682301, 'TOOLS'],\n",
       " [9549178, 'NEWS_AND_MAGAZINES'],\n",
       " [8767812, 'BOOKS_AND_REFERENCE'],\n",
       " [7036877, 'SHOPPING'],\n",
       " [5201483, 'PERSONALIZATION'],\n",
       " [5074486, 'WEATHER'],\n",
       " [4188822, 'HEALTH_AND_FITNESS'],\n",
       " [4056942, 'MAPS_AND_NAVIGATION'],\n",
       " [3694276, 'FAMILY'],\n",
       " [3638640, 'SPORTS'],\n",
       " [1986335, 'ART_AND_DESIGN'],\n",
       " [1924898, 'FOOD_AND_DRINK'],\n",
       " [1820673, 'EDUCATION'],\n",
       " [1712290, 'BUSINESS'],\n",
       " [1433676, 'LIFESTYLE'],\n",
       " [1387692, 'FINANCE'],\n",
       " [1331541, 'HOUSE_AND_HOME'],\n",
       " [854029, 'DATING'],\n",
       " [817657, 'COMICS'],\n",
       " [647318, 'AUTO_AND_VEHICLES'],\n",
       " [638504, 'LIBRARIES_AND_DEMO'],\n",
       " [542604, 'PARENTING'],\n",
       " [513152, 'BEAUTY'],\n",
       " [253542, 'EVENTS'],\n",
       " [120616, 'MEDICAL']]"
      ]
     },
     "execution_count": 64,
     "metadata": {},
     "output_type": "execute_result"
    }
   ],
   "source": [
    "sorted(avg_installation, reverse = True)"
   ]
  },
  {
   "cell_type": "code",
   "execution_count": 70,
   "id": "d9f87f34",
   "metadata": {},
   "outputs": [
    {
     "name": "stdout",
     "output_type": "stream",
     "text": [
      "WhatsApp Messenger 1,000,000,000+\n",
      "imo beta free calls and text 100,000,000+\n",
      "Android Messages 100,000,000+\n",
      "Google Duo - High Quality Video Calls 500,000,000+\n",
      "Messenger – Text and Video Chat for Free 1,000,000,000+\n",
      "imo free video calls and chat 500,000,000+\n",
      "Skype - free IM & video calls 1,000,000,000+\n",
      "Who 100,000,000+\n",
      "GO SMS Pro - Messenger, Free Themes, Emoji 100,000,000+\n",
      "LINE: Free Calls & Messages 500,000,000+\n",
      "Google Chrome: Fast & Secure 1,000,000,000+\n",
      "Firefox Browser fast & private 100,000,000+\n",
      "UC Browser - Fast Download Private & Secure 500,000,000+\n",
      "Gmail 1,000,000,000+\n",
      "Hangouts 1,000,000,000+\n",
      "Messenger Lite: Free Calls & Messages 100,000,000+\n",
      "Kik 100,000,000+\n",
      "KakaoTalk: Free Calls & Text 100,000,000+\n",
      "Opera Mini - fast web browser 100,000,000+\n",
      "Opera Browser: Fast and Secure 100,000,000+\n",
      "Telegram 100,000,000+\n",
      "Truecaller: Caller ID, SMS spam blocking & Dialer 100,000,000+\n",
      "UC Browser Mini -Tiny Fast Private & Secure 100,000,000+\n",
      "Viber Messenger 500,000,000+\n",
      "WeChat 100,000,000+\n",
      "Yahoo Mail – Stay Organized 100,000,000+\n",
      "BBM - Free Calls & Messages 100,000,000+\n"
     ]
    }
   ],
   "source": [
    "for i in data_final:\n",
    "    if i[1] == 'COMMUNICATION' and (i[5] ==\"1,000,000,000+\" or \\\n",
    "                                   i[5] == \"500,000,000+\" or\\\n",
    "                                   i[5] == \"100,000,000+\"):\n",
    "        \n",
    "        print(i[0],i[5])\n",
    "        "
   ]
  },
  {
   "cell_type": "code",
   "execution_count": 79,
   "id": "13415800",
   "metadata": {},
   "outputs": [
    {
     "name": "stdout",
     "output_type": "stream",
     "text": [
      "YouTube 1,000,000,000+\n",
      "Motorola Gallery 100,000,000+\n",
      "VLC for Android 100,000,000+\n",
      "Google Play Movies & TV 1,000,000,000+\n",
      "MX Player 500,000,000+\n",
      "Dubsmash 100,000,000+\n",
      "VivaVideo - Video Editor & Photo Movie 100,000,000+\n",
      "VideoShow-Video Editor, Video Maker, Beauty Camera 100,000,000+\n",
      "Motorola FM Radio 100,000,000+\n"
     ]
    }
   ],
   "source": [
    "for i in data_final:\n",
    "    if i[1] == \"VIDEO_PLAYERS\" and (i[5] ==\"1,000,000,000+\" or \\\n",
    "                                   i[5] == \"500,000,000+\" or\\\n",
    "                                   i[5] == \"100,000,000+\"):\n",
    "        print(i[0] , i[5])\n",
    "                            "
   ]
  },
  {
   "cell_type": "code",
   "execution_count": 80,
   "id": "459c3db1",
   "metadata": {},
   "outputs": [
    {
     "name": "stdout",
     "output_type": "stream",
     "text": [
      "Facebook 1,000,000,000+\n",
      "Facebook Lite 500,000,000+\n",
      "Tumblr 100,000,000+\n",
      "Pinterest 100,000,000+\n",
      "Google+ 1,000,000,000+\n",
      "Badoo - Free Chat & Dating App 100,000,000+\n",
      "Tango - Live Video Broadcast 100,000,000+\n",
      "Instagram 1,000,000,000+\n",
      "Snapchat 500,000,000+\n",
      "LinkedIn 100,000,000+\n",
      "Tik Tok - including musical.ly 100,000,000+\n",
      "BIGO LIVE - Live Stream 100,000,000+\n",
      "VK 100,000,000+\n"
     ]
    }
   ],
   "source": [
    "for i in data_final:\n",
    "    if i[1] == \"SOCIAL\" and (i[5] ==\"1,000,000,000+\" or \\\n",
    "                                   i[5] == \"500,000,000+\" or\\\n",
    "                                   i[5] == \"100,000,000+\"):\n",
    "        print(i[0] , i[5])\n",
    "                            "
   ]
  },
  {
   "cell_type": "code",
   "execution_count": 81,
   "id": "ca22aa59",
   "metadata": {},
   "outputs": [
    {
     "name": "stdout",
     "output_type": "stream",
     "text": [
      "Microsoft Word 500,000,000+\n",
      "Microsoft Outlook 100,000,000+\n",
      "Microsoft OneDrive 100,000,000+\n",
      "Microsoft OneNote 100,000,000+\n",
      "Google Keep 100,000,000+\n",
      "ES File Explorer File Manager 100,000,000+\n",
      "Dropbox 500,000,000+\n",
      "Google Docs 100,000,000+\n",
      "Microsoft PowerPoint 100,000,000+\n",
      "Samsung Notes 100,000,000+\n",
      "SwiftKey Keyboard 100,000,000+\n",
      "Google Drive 1,000,000,000+\n",
      "Adobe Acrobat Reader 100,000,000+\n",
      "Google Sheets 100,000,000+\n",
      "Microsoft Excel 100,000,000+\n",
      "WPS Office - Word, Docs, PDF, Note, Slide & Sheet 100,000,000+\n",
      "Google Slides 100,000,000+\n",
      "ColorNote Notepad Notes 100,000,000+\n",
      "Evernote – Organizer, Planner for Notes & Memos 100,000,000+\n",
      "Google Calendar 500,000,000+\n",
      "Cloud Print 500,000,000+\n",
      "CamScanner - Phone PDF Creator 100,000,000+\n"
     ]
    }
   ],
   "source": [
    "for i in data_final:\n",
    "    if i[1] == \"PRODUCTIVITY\" and (i[5] ==\"1,000,000,000+\" or \\\n",
    "                                   i[5] == \"500,000,000+\" or\\\n",
    "                                   i[5] == \"100,000,000+\"):\n",
    "        print(i[0] , i[5])\n",
    "                            "
   ]
  },
  {
   "cell_type": "code",
   "execution_count": null,
   "id": "c7203b2c",
   "metadata": {},
   "outputs": [],
   "source": []
  }
 ],
 "metadata": {
  "kernelspec": {
   "display_name": "Python 3",
   "language": "python",
   "name": "python3"
  },
  "language_info": {
   "codemirror_mode": {
    "name": "ipython",
    "version": 3
   },
   "file_extension": ".py",
   "mimetype": "text/x-python",
   "name": "python",
   "nbconvert_exporter": "python",
   "pygments_lexer": "ipython3",
   "version": "3.8.8"
  }
 },
 "nbformat": 4,
 "nbformat_minor": 5
}
